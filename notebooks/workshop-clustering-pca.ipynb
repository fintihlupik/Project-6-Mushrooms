{
 "cells": [
  {
   "cell_type": "markdown",
   "metadata": {
    "id": "C1EQ5G9rQcwE"
   },
   "source": [
    "# **Clustering and PCA**"
   ]
  },
  {
   "cell_type": "markdown",
   "metadata": {
    "id": "Toc_OzXYQcwH"
   },
   "source": [
    "### **Mushroom Dataset**\n",
    "\n",
    "Podeis obtener el conjunto de datos en el siguiente enlace:\n",
    "\n",
    "[Mushroom Dataset](https://www.kaggle.com/uciml/mushroom-classification)\n",
    "\n",
    "Como podréis comprobar, hay muchas variables, todas ellas categóricas, por lo que exploraciones con scatterplot no nos serán útiles como en otros casos.\n",
    "\n",
    "La variable a predecir ``poisonous`` es binaria.\n"
   ]
  },
  {
   "cell_type": "code",
   "execution_count": 208,
   "metadata": {
    "id": "RWIOS2y_QcwH"
   },
   "outputs": [],
   "source": [
    "# Carga de librerías, las que hemos considerado básicas, añadid lo que queráis :)\n",
    "\n",
    "import pandas as pd\n",
    "import numpy as np\n",
    "import seaborn as sns\n",
    "from sklearn.cluster import KMeans\n",
    "import matplotlib.pyplot as plt\n",
    "from sklearn.model_selection import train_test_split\n",
    "from sklearn.decomposition import PCA"
   ]
  },
  {
   "cell_type": "markdown",
   "metadata": {
    "id": "7KbJPDrpQcwI"
   },
   "source": [
    "## **1. Leer conjunto de datos y primer vistazo**"
   ]
  },
  {
   "cell_type": "code",
   "execution_count": 209,
   "metadata": {
    "colab": {
     "base_uri": "https://localhost:8080/",
     "height": 307
    },
    "id": "zFJoAIsVQcwI",
    "outputId": "e4b4b4f4-75ea-462d-ed61-53602854ebde"
   },
   "outputs": [
    {
     "data": {
      "text/html": [
       "<div>\n",
       "<style scoped>\n",
       "    .dataframe tbody tr th:only-of-type {\n",
       "        vertical-align: middle;\n",
       "    }\n",
       "\n",
       "    .dataframe tbody tr th {\n",
       "        vertical-align: top;\n",
       "    }\n",
       "\n",
       "    .dataframe thead th {\n",
       "        text-align: right;\n",
       "    }\n",
       "</style>\n",
       "<table border=\"1\" class=\"dataframe\">\n",
       "  <thead>\n",
       "    <tr style=\"text-align: right;\">\n",
       "      <th></th>\n",
       "      <th>class</th>\n",
       "      <th>cap-shape</th>\n",
       "      <th>cap-surface</th>\n",
       "      <th>cap-color</th>\n",
       "      <th>bruises</th>\n",
       "      <th>odor</th>\n",
       "      <th>gill-attachment</th>\n",
       "      <th>gill-spacing</th>\n",
       "      <th>gill-size</th>\n",
       "      <th>gill-color</th>\n",
       "      <th>...</th>\n",
       "      <th>stalk-surface-below-ring</th>\n",
       "      <th>stalk-color-above-ring</th>\n",
       "      <th>stalk-color-below-ring</th>\n",
       "      <th>veil-type</th>\n",
       "      <th>veil-color</th>\n",
       "      <th>ring-number</th>\n",
       "      <th>ring-type</th>\n",
       "      <th>spore-print-color</th>\n",
       "      <th>population</th>\n",
       "      <th>habitat</th>\n",
       "    </tr>\n",
       "  </thead>\n",
       "  <tbody>\n",
       "    <tr>\n",
       "      <th>0</th>\n",
       "      <td>p</td>\n",
       "      <td>x</td>\n",
       "      <td>s</td>\n",
       "      <td>n</td>\n",
       "      <td>t</td>\n",
       "      <td>p</td>\n",
       "      <td>f</td>\n",
       "      <td>c</td>\n",
       "      <td>n</td>\n",
       "      <td>k</td>\n",
       "      <td>...</td>\n",
       "      <td>s</td>\n",
       "      <td>w</td>\n",
       "      <td>w</td>\n",
       "      <td>p</td>\n",
       "      <td>w</td>\n",
       "      <td>o</td>\n",
       "      <td>p</td>\n",
       "      <td>k</td>\n",
       "      <td>s</td>\n",
       "      <td>u</td>\n",
       "    </tr>\n",
       "    <tr>\n",
       "      <th>1</th>\n",
       "      <td>e</td>\n",
       "      <td>x</td>\n",
       "      <td>s</td>\n",
       "      <td>y</td>\n",
       "      <td>t</td>\n",
       "      <td>a</td>\n",
       "      <td>f</td>\n",
       "      <td>c</td>\n",
       "      <td>b</td>\n",
       "      <td>k</td>\n",
       "      <td>...</td>\n",
       "      <td>s</td>\n",
       "      <td>w</td>\n",
       "      <td>w</td>\n",
       "      <td>p</td>\n",
       "      <td>w</td>\n",
       "      <td>o</td>\n",
       "      <td>p</td>\n",
       "      <td>n</td>\n",
       "      <td>n</td>\n",
       "      <td>g</td>\n",
       "    </tr>\n",
       "    <tr>\n",
       "      <th>2</th>\n",
       "      <td>e</td>\n",
       "      <td>b</td>\n",
       "      <td>s</td>\n",
       "      <td>w</td>\n",
       "      <td>t</td>\n",
       "      <td>l</td>\n",
       "      <td>f</td>\n",
       "      <td>c</td>\n",
       "      <td>b</td>\n",
       "      <td>n</td>\n",
       "      <td>...</td>\n",
       "      <td>s</td>\n",
       "      <td>w</td>\n",
       "      <td>w</td>\n",
       "      <td>p</td>\n",
       "      <td>w</td>\n",
       "      <td>o</td>\n",
       "      <td>p</td>\n",
       "      <td>n</td>\n",
       "      <td>n</td>\n",
       "      <td>m</td>\n",
       "    </tr>\n",
       "    <tr>\n",
       "      <th>3</th>\n",
       "      <td>p</td>\n",
       "      <td>x</td>\n",
       "      <td>y</td>\n",
       "      <td>w</td>\n",
       "      <td>t</td>\n",
       "      <td>p</td>\n",
       "      <td>f</td>\n",
       "      <td>c</td>\n",
       "      <td>n</td>\n",
       "      <td>n</td>\n",
       "      <td>...</td>\n",
       "      <td>s</td>\n",
       "      <td>w</td>\n",
       "      <td>w</td>\n",
       "      <td>p</td>\n",
       "      <td>w</td>\n",
       "      <td>o</td>\n",
       "      <td>p</td>\n",
       "      <td>k</td>\n",
       "      <td>s</td>\n",
       "      <td>u</td>\n",
       "    </tr>\n",
       "    <tr>\n",
       "      <th>4</th>\n",
       "      <td>e</td>\n",
       "      <td>x</td>\n",
       "      <td>s</td>\n",
       "      <td>g</td>\n",
       "      <td>f</td>\n",
       "      <td>n</td>\n",
       "      <td>f</td>\n",
       "      <td>w</td>\n",
       "      <td>b</td>\n",
       "      <td>k</td>\n",
       "      <td>...</td>\n",
       "      <td>s</td>\n",
       "      <td>w</td>\n",
       "      <td>w</td>\n",
       "      <td>p</td>\n",
       "      <td>w</td>\n",
       "      <td>o</td>\n",
       "      <td>e</td>\n",
       "      <td>n</td>\n",
       "      <td>a</td>\n",
       "      <td>g</td>\n",
       "    </tr>\n",
       "  </tbody>\n",
       "</table>\n",
       "<p>5 rows × 23 columns</p>\n",
       "</div>"
      ],
      "text/plain": [
       "  class cap-shape cap-surface cap-color bruises odor gill-attachment  \\\n",
       "0     p         x           s         n       t    p               f   \n",
       "1     e         x           s         y       t    a               f   \n",
       "2     e         b           s         w       t    l               f   \n",
       "3     p         x           y         w       t    p               f   \n",
       "4     e         x           s         g       f    n               f   \n",
       "\n",
       "  gill-spacing gill-size gill-color  ... stalk-surface-below-ring  \\\n",
       "0            c         n          k  ...                        s   \n",
       "1            c         b          k  ...                        s   \n",
       "2            c         b          n  ...                        s   \n",
       "3            c         n          n  ...                        s   \n",
       "4            w         b          k  ...                        s   \n",
       "\n",
       "  stalk-color-above-ring stalk-color-below-ring veil-type veil-color  \\\n",
       "0                      w                      w         p          w   \n",
       "1                      w                      w         p          w   \n",
       "2                      w                      w         p          w   \n",
       "3                      w                      w         p          w   \n",
       "4                      w                      w         p          w   \n",
       "\n",
       "  ring-number ring-type spore-print-color population habitat  \n",
       "0           o         p                 k          s       u  \n",
       "1           o         p                 n          n       g  \n",
       "2           o         p                 n          n       m  \n",
       "3           o         p                 k          s       u  \n",
       "4           o         e                 n          a       g  \n",
       "\n",
       "[5 rows x 23 columns]"
      ]
     },
     "execution_count": 209,
     "metadata": {},
     "output_type": "execute_result"
    }
   ],
   "source": [
    "# Cargamos el dataset de setas\n",
    "df = pd.read_csv('../data/mushrooms.csv')\n",
    "\n",
    "# Visualizamos las primeras filas del dataframe\n",
    "df.head()"
   ]
  },
  {
   "cell_type": "code",
   "execution_count": 210,
   "metadata": {
    "colab": {
     "base_uri": "https://localhost:8080/"
    },
    "id": "MfWSqiblItaH",
    "outputId": "27ce8079-ead6-4a7b-dd58-9ab06ec912ce"
   },
   "outputs": [
    {
     "name": "stdout",
     "output_type": "stream",
     "text": [
      "class: ['p' 'e']\n",
      "cap-shape: ['x' 'b' 's' 'f' 'k' 'c']\n",
      "cap-surface: ['s' 'y' 'f' 'g']\n",
      "cap-color: ['n' 'y' 'w' 'g' 'e' 'p' 'b' 'u' 'c' 'r']\n",
      "bruises: ['t' 'f']\n",
      "odor: ['p' 'a' 'l' 'n' 'f' 'c' 'y' 's' 'm']\n",
      "gill-attachment: ['f' 'a']\n",
      "gill-spacing: ['c' 'w']\n",
      "gill-size: ['n' 'b']\n",
      "gill-color: ['k' 'n' 'g' 'p' 'w' 'h' 'u' 'e' 'b' 'r' 'y' 'o']\n",
      "stalk-shape: ['e' 't']\n",
      "stalk-root: ['e' 'c' 'b' 'r' '?']\n",
      "stalk-surface-above-ring: ['s' 'f' 'k' 'y']\n",
      "stalk-surface-below-ring: ['s' 'f' 'y' 'k']\n",
      "stalk-color-above-ring: ['w' 'g' 'p' 'n' 'b' 'e' 'o' 'c' 'y']\n",
      "stalk-color-below-ring: ['w' 'p' 'g' 'b' 'n' 'e' 'y' 'o' 'c']\n",
      "veil-type: ['p']\n",
      "veil-color: ['w' 'n' 'o' 'y']\n",
      "ring-number: ['o' 't' 'n']\n",
      "ring-type: ['p' 'e' 'l' 'f' 'n']\n",
      "spore-print-color: ['k' 'n' 'u' 'h' 'w' 'r' 'o' 'y' 'b']\n",
      "population: ['s' 'n' 'a' 'v' 'y' 'c']\n",
      "habitat: ['u' 'g' 'm' 'd' 'p' 'w' 'l']\n"
     ]
    }
   ],
   "source": [
    "for col in df.columns:\n",
    "    print(f\"{col}: {df[col].unique()}\")"
   ]
  },
  {
   "cell_type": "markdown",
   "metadata": {
    "id": "Z2SYL2ygI5wY"
   },
   "source": [
    "Vemos valores únicos por cada columna y nos damos cuenta de que el stalk-root tiene un valor de \"?\""
   ]
  },
  {
   "cell_type": "code",
   "execution_count": 211,
   "metadata": {
    "id": "xskrmZeTJWmA"
   },
   "outputs": [],
   "source": [
    "attribute_mappings = {\n",
    "    'class': {\n",
    "        'e': 'edible',\n",
    "        'p': 'poisonous'\n",
    "    },\n",
    "    'cap-shape': {\n",
    "        'b': 'bell',\n",
    "        'c': 'conical',\n",
    "        'x': 'convex',\n",
    "        'f': 'flat',\n",
    "        'k': 'knobbed',\n",
    "        's': 'sunken'\n",
    "    },\n",
    "    'cap-surface': {\n",
    "        'f': 'fibrous',\n",
    "        'g': 'grooves',\n",
    "        'y': 'scaly',\n",
    "        's': 'smooth'\n",
    "    },\n",
    "    'cap-color': {\n",
    "        'n': 'brown',\n",
    "        'b': 'buff',\n",
    "        'c': 'cinnamon',\n",
    "        'g': 'gray',\n",
    "        'r': 'green',\n",
    "        'p': 'pink',\n",
    "        'u': 'purple',\n",
    "        'e': 'red',\n",
    "        'w': 'white',\n",
    "        'y': 'yellow'\n",
    "    },\n",
    "    'bruises': {\n",
    "        't': 'bruises',\n",
    "        'f': 'no'\n",
    "    },\n",
    "    'odor': {\n",
    "        'a': 'almond',\n",
    "        'l': 'anise',\n",
    "        'c': 'creosote',\n",
    "        'y': 'fishy',\n",
    "        'f': 'foul',\n",
    "        'm': 'musty',\n",
    "        'n': 'none',\n",
    "        'p': 'pungent',\n",
    "        's': 'spicy'\n",
    "    },\n",
    "    'gill-attachment': {\n",
    "        'a': 'attached',\n",
    "        'd': 'descending',\n",
    "        'f': 'free',\n",
    "        'n': 'notched'\n",
    "    },\n",
    "    'gill-spacing': {\n",
    "        'c': 'close',\n",
    "        'w': 'crowded',\n",
    "        'd': 'distant'\n",
    "    },\n",
    "    'gill-size': {\n",
    "        'b': 'broad',\n",
    "        'n': 'narrow'\n",
    "    },\n",
    "    'gill-color': {\n",
    "        'k': 'black',\n",
    "        'n': 'brown',\n",
    "        'b': 'buff',\n",
    "        'h': 'chocolate',\n",
    "        'g': 'gray',\n",
    "        'r': 'green',\n",
    "        'o': 'orange',\n",
    "        'p': 'pink',\n",
    "        'u': 'purple',\n",
    "        'e': 'red',\n",
    "        'w': 'white',\n",
    "        'y': 'yellow'\n",
    "    },\n",
    "    'stalk-shape': {\n",
    "        'e': 'enlarging',\n",
    "        't': 'tapering'\n",
    "    },\n",
    "    'stalk-root': {\n",
    "        'b': 'bulbous',\n",
    "        'c': 'club',\n",
    "        'u': 'cup',\n",
    "        'e': 'equal',\n",
    "        'z': 'rhizomorphs',\n",
    "        'r': 'rooted',\n",
    "        '?': 'missing'\n",
    "    },\n",
    "    'stalk-surface-above-ring': {\n",
    "        'f': 'fibrous',\n",
    "        'y': 'scaly',\n",
    "        'k': 'silky',\n",
    "        's': 'smooth'\n",
    "    },\n",
    "    'stalk-surface-below-ring': {\n",
    "        'f': 'fibrous',\n",
    "        'y': 'scaly',\n",
    "        'k': 'silky',\n",
    "        's': 'smooth'\n",
    "    },\n",
    "    'stalk-color-above-ring': {\n",
    "        'n': 'brown',\n",
    "        'b': 'buff',\n",
    "        'c': 'cinnamon',\n",
    "        'g': 'gray',\n",
    "        'o': 'orange',\n",
    "        'p': 'pink',\n",
    "        'e': 'red',\n",
    "        'w': 'white',\n",
    "        'y': 'yellow'\n",
    "    },\n",
    "    'stalk-color-below-ring': {\n",
    "        'n': 'brown',\n",
    "        'b': 'buff',\n",
    "        'c': 'cinnamon',\n",
    "        'g': 'gray',\n",
    "        'o': 'orange',\n",
    "        'p': 'pink',\n",
    "        'e': 'red',\n",
    "        'w': 'white',\n",
    "        'y': 'yellow'\n",
    "    },\n",
    "    'veil-type': {\n",
    "        'p': 'partial',\n",
    "        'u': 'universal'\n",
    "    },\n",
    "    'veil-color': {\n",
    "        'n': 'brown',\n",
    "        'o': 'orange',\n",
    "        'w': 'white',\n",
    "        'y': 'yellow'\n",
    "    },\n",
    "    'ring-number': {\n",
    "        'n': 'none',\n",
    "        'o': 'one',\n",
    "        't': 'two'\n",
    "    },\n",
    "    'ring-type': {\n",
    "        'c': 'cobwebby',\n",
    "        'e': 'evanescent',\n",
    "        'f': 'flaring',\n",
    "        'l': 'large',\n",
    "        'n': 'none',\n",
    "        'p': 'pendant',\n",
    "        's': 'sheathing',\n",
    "        'z': 'zone'\n",
    "    },\n",
    "    'spore-print-color': {\n",
    "        'k': 'black',\n",
    "        'n': 'brown',\n",
    "        'b': 'buff',\n",
    "        'h': 'chocolate',\n",
    "        'r': 'green',\n",
    "        'o': 'orange',\n",
    "        'u': 'purple',\n",
    "        'w': 'white',\n",
    "        'y': 'yellow'\n",
    "    },\n",
    "    'population': {\n",
    "        'a': 'abundant',\n",
    "        'c': 'clustered',\n",
    "        'n': 'numerous',\n",
    "        's': 'scattered',\n",
    "        'v': 'several',\n",
    "        'y': 'solitary'\n",
    "    },\n",
    "    'habitat': {\n",
    "        'g': 'grasses',\n",
    "        'l': 'leaves',\n",
    "        'm': 'meadows',\n",
    "        'p': 'paths',\n",
    "        'u': 'urban',\n",
    "        'w': 'waste',\n",
    "        'd': 'woods'\n",
    "    }\n",
    "}"
   ]
  },
  {
   "cell_type": "markdown",
   "metadata": {
    "id": "64gg1C-NJcWa"
   },
   "source": [
    "Buscamos la descripción de los valores."
   ]
  },
  {
   "cell_type": "code",
   "execution_count": 212,
   "metadata": {
    "colab": {
     "base_uri": "https://localhost:8080/"
    },
    "id": "BI41eHZEJpH2",
    "outputId": "11e0da81-f307-4b72-fde4-a9c97bcad445"
   },
   "outputs": [
    {
     "name": "stdout",
     "output_type": "stream",
     "text": [
      "       class cap-shape cap-surface cap-color  bruises     odor  \\\n",
      "0  poisonous    convex      smooth     brown  bruises  pungent   \n",
      "1     edible    convex      smooth    yellow  bruises   almond   \n",
      "2     edible      bell      smooth     white  bruises    anise   \n",
      "3  poisonous    convex       scaly     white  bruises  pungent   \n",
      "4     edible    convex      smooth      gray       no     none   \n",
      "\n",
      "  gill-attachment gill-spacing gill-size gill-color  ...  \\\n",
      "0            free        close    narrow      black  ...   \n",
      "1            free        close     broad      black  ...   \n",
      "2            free        close     broad      brown  ...   \n",
      "3            free        close    narrow      brown  ...   \n",
      "4            free      crowded     broad      black  ...   \n",
      "\n",
      "  stalk-surface-below-ring stalk-color-above-ring stalk-color-below-ring  \\\n",
      "0                   smooth                  white                  white   \n",
      "1                   smooth                  white                  white   \n",
      "2                   smooth                  white                  white   \n",
      "3                   smooth                  white                  white   \n",
      "4                   smooth                  white                  white   \n",
      "\n",
      "  veil-type veil-color ring-number   ring-type spore-print-color population  \\\n",
      "0   partial      white         one     pendant             black  scattered   \n",
      "1   partial      white         one     pendant             brown   numerous   \n",
      "2   partial      white         one     pendant             brown   numerous   \n",
      "3   partial      white         one     pendant             black  scattered   \n",
      "4   partial      white         one  evanescent             brown   abundant   \n",
      "\n",
      "   habitat  \n",
      "0    urban  \n",
      "1  grasses  \n",
      "2  meadows  \n",
      "3    urban  \n",
      "4  grasses  \n",
      "\n",
      "[5 rows x 23 columns]\n",
      "Decoded data saved to 'data/mushrooms-decoded.csv'\n"
     ]
    }
   ],
   "source": [
    "def decode_feature(value, feature_name):\n",
    "    \"\"\"Decode a feature using the mapping dictionary\"\"\"\n",
    "    return attribute_mappings[feature_name].get(value, value)\n",
    "\n",
    "# Transfor all dataframe\n",
    "def decode_dataframe(df):\n",
    "    df_decoded = df.copy()\n",
    "\n",
    "    for column in df.columns:\n",
    "        if column in attribute_mappings:\n",
    "            df_decoded[column] = df_decoded[column].apply(lambda x: decode_feature(x, column))\n",
    "    return df_decoded\n",
    "\n",
    "df_decoded = decode_dataframe(df)\n",
    "print(df_decoded.head(5))\n",
    "\n",
    "df_decoded.to_csv('../data/mushrooms-decoded.csv', index=False)\n",
    "print(\"Decoded data saved to 'data/mushrooms-decoded.csv'\")"
   ]
  },
  {
   "cell_type": "code",
   "execution_count": 213,
   "metadata": {
    "colab": {
     "base_uri": "https://localhost:8080/",
     "height": 495
    },
    "id": "2lWLvHZ-Junw",
    "outputId": "68a9d597-8267-4fa2-b5f2-03119578b249"
   },
   "outputs": [
    {
     "data": {
      "text/html": [
       "<div>\n",
       "<style scoped>\n",
       "    .dataframe tbody tr th:only-of-type {\n",
       "        vertical-align: middle;\n",
       "    }\n",
       "\n",
       "    .dataframe tbody tr th {\n",
       "        vertical-align: top;\n",
       "    }\n",
       "\n",
       "    .dataframe thead th {\n",
       "        text-align: right;\n",
       "    }\n",
       "</style>\n",
       "<table border=\"1\" class=\"dataframe\">\n",
       "  <thead>\n",
       "    <tr style=\"text-align: right;\">\n",
       "      <th></th>\n",
       "      <th>class</th>\n",
       "      <th>cap-shape</th>\n",
       "      <th>cap-surface</th>\n",
       "      <th>cap-color</th>\n",
       "      <th>bruises</th>\n",
       "      <th>odor</th>\n",
       "      <th>gill-attachment</th>\n",
       "      <th>gill-spacing</th>\n",
       "      <th>gill-size</th>\n",
       "      <th>gill-color</th>\n",
       "      <th>...</th>\n",
       "      <th>stalk-surface-below-ring</th>\n",
       "      <th>stalk-color-above-ring</th>\n",
       "      <th>stalk-color-below-ring</th>\n",
       "      <th>veil-type</th>\n",
       "      <th>veil-color</th>\n",
       "      <th>ring-number</th>\n",
       "      <th>ring-type</th>\n",
       "      <th>spore-print-color</th>\n",
       "      <th>population</th>\n",
       "      <th>habitat</th>\n",
       "    </tr>\n",
       "  </thead>\n",
       "  <tbody>\n",
       "    <tr>\n",
       "      <th>0</th>\n",
       "      <td>poisonous</td>\n",
       "      <td>convex</td>\n",
       "      <td>smooth</td>\n",
       "      <td>brown</td>\n",
       "      <td>bruises</td>\n",
       "      <td>pungent</td>\n",
       "      <td>free</td>\n",
       "      <td>close</td>\n",
       "      <td>narrow</td>\n",
       "      <td>black</td>\n",
       "      <td>...</td>\n",
       "      <td>smooth</td>\n",
       "      <td>white</td>\n",
       "      <td>white</td>\n",
       "      <td>partial</td>\n",
       "      <td>white</td>\n",
       "      <td>one</td>\n",
       "      <td>pendant</td>\n",
       "      <td>black</td>\n",
       "      <td>scattered</td>\n",
       "      <td>urban</td>\n",
       "    </tr>\n",
       "    <tr>\n",
       "      <th>1</th>\n",
       "      <td>edible</td>\n",
       "      <td>convex</td>\n",
       "      <td>smooth</td>\n",
       "      <td>yellow</td>\n",
       "      <td>bruises</td>\n",
       "      <td>almond</td>\n",
       "      <td>free</td>\n",
       "      <td>close</td>\n",
       "      <td>broad</td>\n",
       "      <td>black</td>\n",
       "      <td>...</td>\n",
       "      <td>smooth</td>\n",
       "      <td>white</td>\n",
       "      <td>white</td>\n",
       "      <td>partial</td>\n",
       "      <td>white</td>\n",
       "      <td>one</td>\n",
       "      <td>pendant</td>\n",
       "      <td>brown</td>\n",
       "      <td>numerous</td>\n",
       "      <td>grasses</td>\n",
       "    </tr>\n",
       "    <tr>\n",
       "      <th>2</th>\n",
       "      <td>edible</td>\n",
       "      <td>bell</td>\n",
       "      <td>smooth</td>\n",
       "      <td>white</td>\n",
       "      <td>bruises</td>\n",
       "      <td>anise</td>\n",
       "      <td>free</td>\n",
       "      <td>close</td>\n",
       "      <td>broad</td>\n",
       "      <td>brown</td>\n",
       "      <td>...</td>\n",
       "      <td>smooth</td>\n",
       "      <td>white</td>\n",
       "      <td>white</td>\n",
       "      <td>partial</td>\n",
       "      <td>white</td>\n",
       "      <td>one</td>\n",
       "      <td>pendant</td>\n",
       "      <td>brown</td>\n",
       "      <td>numerous</td>\n",
       "      <td>meadows</td>\n",
       "    </tr>\n",
       "    <tr>\n",
       "      <th>3</th>\n",
       "      <td>poisonous</td>\n",
       "      <td>convex</td>\n",
       "      <td>scaly</td>\n",
       "      <td>white</td>\n",
       "      <td>bruises</td>\n",
       "      <td>pungent</td>\n",
       "      <td>free</td>\n",
       "      <td>close</td>\n",
       "      <td>narrow</td>\n",
       "      <td>brown</td>\n",
       "      <td>...</td>\n",
       "      <td>smooth</td>\n",
       "      <td>white</td>\n",
       "      <td>white</td>\n",
       "      <td>partial</td>\n",
       "      <td>white</td>\n",
       "      <td>one</td>\n",
       "      <td>pendant</td>\n",
       "      <td>black</td>\n",
       "      <td>scattered</td>\n",
       "      <td>urban</td>\n",
       "    </tr>\n",
       "    <tr>\n",
       "      <th>4</th>\n",
       "      <td>edible</td>\n",
       "      <td>convex</td>\n",
       "      <td>smooth</td>\n",
       "      <td>gray</td>\n",
       "      <td>no</td>\n",
       "      <td>none</td>\n",
       "      <td>free</td>\n",
       "      <td>crowded</td>\n",
       "      <td>broad</td>\n",
       "      <td>black</td>\n",
       "      <td>...</td>\n",
       "      <td>smooth</td>\n",
       "      <td>white</td>\n",
       "      <td>white</td>\n",
       "      <td>partial</td>\n",
       "      <td>white</td>\n",
       "      <td>one</td>\n",
       "      <td>evanescent</td>\n",
       "      <td>brown</td>\n",
       "      <td>abundant</td>\n",
       "      <td>grasses</td>\n",
       "    </tr>\n",
       "    <tr>\n",
       "      <th>...</th>\n",
       "      <td>...</td>\n",
       "      <td>...</td>\n",
       "      <td>...</td>\n",
       "      <td>...</td>\n",
       "      <td>...</td>\n",
       "      <td>...</td>\n",
       "      <td>...</td>\n",
       "      <td>...</td>\n",
       "      <td>...</td>\n",
       "      <td>...</td>\n",
       "      <td>...</td>\n",
       "      <td>...</td>\n",
       "      <td>...</td>\n",
       "      <td>...</td>\n",
       "      <td>...</td>\n",
       "      <td>...</td>\n",
       "      <td>...</td>\n",
       "      <td>...</td>\n",
       "      <td>...</td>\n",
       "      <td>...</td>\n",
       "      <td>...</td>\n",
       "    </tr>\n",
       "    <tr>\n",
       "      <th>8119</th>\n",
       "      <td>edible</td>\n",
       "      <td>knobbed</td>\n",
       "      <td>smooth</td>\n",
       "      <td>brown</td>\n",
       "      <td>no</td>\n",
       "      <td>none</td>\n",
       "      <td>attached</td>\n",
       "      <td>close</td>\n",
       "      <td>broad</td>\n",
       "      <td>yellow</td>\n",
       "      <td>...</td>\n",
       "      <td>smooth</td>\n",
       "      <td>orange</td>\n",
       "      <td>orange</td>\n",
       "      <td>partial</td>\n",
       "      <td>orange</td>\n",
       "      <td>one</td>\n",
       "      <td>pendant</td>\n",
       "      <td>buff</td>\n",
       "      <td>clustered</td>\n",
       "      <td>leaves</td>\n",
       "    </tr>\n",
       "    <tr>\n",
       "      <th>8120</th>\n",
       "      <td>edible</td>\n",
       "      <td>convex</td>\n",
       "      <td>smooth</td>\n",
       "      <td>brown</td>\n",
       "      <td>no</td>\n",
       "      <td>none</td>\n",
       "      <td>attached</td>\n",
       "      <td>close</td>\n",
       "      <td>broad</td>\n",
       "      <td>yellow</td>\n",
       "      <td>...</td>\n",
       "      <td>smooth</td>\n",
       "      <td>orange</td>\n",
       "      <td>orange</td>\n",
       "      <td>partial</td>\n",
       "      <td>brown</td>\n",
       "      <td>one</td>\n",
       "      <td>pendant</td>\n",
       "      <td>buff</td>\n",
       "      <td>several</td>\n",
       "      <td>leaves</td>\n",
       "    </tr>\n",
       "    <tr>\n",
       "      <th>8121</th>\n",
       "      <td>edible</td>\n",
       "      <td>flat</td>\n",
       "      <td>smooth</td>\n",
       "      <td>brown</td>\n",
       "      <td>no</td>\n",
       "      <td>none</td>\n",
       "      <td>attached</td>\n",
       "      <td>close</td>\n",
       "      <td>broad</td>\n",
       "      <td>brown</td>\n",
       "      <td>...</td>\n",
       "      <td>smooth</td>\n",
       "      <td>orange</td>\n",
       "      <td>orange</td>\n",
       "      <td>partial</td>\n",
       "      <td>orange</td>\n",
       "      <td>one</td>\n",
       "      <td>pendant</td>\n",
       "      <td>buff</td>\n",
       "      <td>clustered</td>\n",
       "      <td>leaves</td>\n",
       "    </tr>\n",
       "    <tr>\n",
       "      <th>8122</th>\n",
       "      <td>poisonous</td>\n",
       "      <td>knobbed</td>\n",
       "      <td>scaly</td>\n",
       "      <td>brown</td>\n",
       "      <td>no</td>\n",
       "      <td>fishy</td>\n",
       "      <td>free</td>\n",
       "      <td>close</td>\n",
       "      <td>narrow</td>\n",
       "      <td>buff</td>\n",
       "      <td>...</td>\n",
       "      <td>silky</td>\n",
       "      <td>white</td>\n",
       "      <td>white</td>\n",
       "      <td>partial</td>\n",
       "      <td>white</td>\n",
       "      <td>one</td>\n",
       "      <td>evanescent</td>\n",
       "      <td>white</td>\n",
       "      <td>several</td>\n",
       "      <td>leaves</td>\n",
       "    </tr>\n",
       "    <tr>\n",
       "      <th>8123</th>\n",
       "      <td>edible</td>\n",
       "      <td>convex</td>\n",
       "      <td>smooth</td>\n",
       "      <td>brown</td>\n",
       "      <td>no</td>\n",
       "      <td>none</td>\n",
       "      <td>attached</td>\n",
       "      <td>close</td>\n",
       "      <td>broad</td>\n",
       "      <td>yellow</td>\n",
       "      <td>...</td>\n",
       "      <td>smooth</td>\n",
       "      <td>orange</td>\n",
       "      <td>orange</td>\n",
       "      <td>partial</td>\n",
       "      <td>orange</td>\n",
       "      <td>one</td>\n",
       "      <td>pendant</td>\n",
       "      <td>orange</td>\n",
       "      <td>clustered</td>\n",
       "      <td>leaves</td>\n",
       "    </tr>\n",
       "  </tbody>\n",
       "</table>\n",
       "<p>8124 rows × 23 columns</p>\n",
       "</div>"
      ],
      "text/plain": [
       "          class cap-shape cap-surface cap-color  bruises     odor  \\\n",
       "0     poisonous    convex      smooth     brown  bruises  pungent   \n",
       "1        edible    convex      smooth    yellow  bruises   almond   \n",
       "2        edible      bell      smooth     white  bruises    anise   \n",
       "3     poisonous    convex       scaly     white  bruises  pungent   \n",
       "4        edible    convex      smooth      gray       no     none   \n",
       "...         ...       ...         ...       ...      ...      ...   \n",
       "8119     edible   knobbed      smooth     brown       no     none   \n",
       "8120     edible    convex      smooth     brown       no     none   \n",
       "8121     edible      flat      smooth     brown       no     none   \n",
       "8122  poisonous   knobbed       scaly     brown       no    fishy   \n",
       "8123     edible    convex      smooth     brown       no     none   \n",
       "\n",
       "     gill-attachment gill-spacing gill-size gill-color  ...  \\\n",
       "0               free        close    narrow      black  ...   \n",
       "1               free        close     broad      black  ...   \n",
       "2               free        close     broad      brown  ...   \n",
       "3               free        close    narrow      brown  ...   \n",
       "4               free      crowded     broad      black  ...   \n",
       "...              ...          ...       ...        ...  ...   \n",
       "8119        attached        close     broad     yellow  ...   \n",
       "8120        attached        close     broad     yellow  ...   \n",
       "8121        attached        close     broad      brown  ...   \n",
       "8122            free        close    narrow       buff  ...   \n",
       "8123        attached        close     broad     yellow  ...   \n",
       "\n",
       "     stalk-surface-below-ring stalk-color-above-ring stalk-color-below-ring  \\\n",
       "0                      smooth                  white                  white   \n",
       "1                      smooth                  white                  white   \n",
       "2                      smooth                  white                  white   \n",
       "3                      smooth                  white                  white   \n",
       "4                      smooth                  white                  white   \n",
       "...                       ...                    ...                    ...   \n",
       "8119                   smooth                 orange                 orange   \n",
       "8120                   smooth                 orange                 orange   \n",
       "8121                   smooth                 orange                 orange   \n",
       "8122                    silky                  white                  white   \n",
       "8123                   smooth                 orange                 orange   \n",
       "\n",
       "     veil-type veil-color ring-number   ring-type spore-print-color  \\\n",
       "0      partial      white         one     pendant             black   \n",
       "1      partial      white         one     pendant             brown   \n",
       "2      partial      white         one     pendant             brown   \n",
       "3      partial      white         one     pendant             black   \n",
       "4      partial      white         one  evanescent             brown   \n",
       "...        ...        ...         ...         ...               ...   \n",
       "8119   partial     orange         one     pendant              buff   \n",
       "8120   partial      brown         one     pendant              buff   \n",
       "8121   partial     orange         one     pendant              buff   \n",
       "8122   partial      white         one  evanescent             white   \n",
       "8123   partial     orange         one     pendant            orange   \n",
       "\n",
       "     population  habitat  \n",
       "0     scattered    urban  \n",
       "1      numerous  grasses  \n",
       "2      numerous  meadows  \n",
       "3     scattered    urban  \n",
       "4      abundant  grasses  \n",
       "...         ...      ...  \n",
       "8119  clustered   leaves  \n",
       "8120    several   leaves  \n",
       "8121  clustered   leaves  \n",
       "8122    several   leaves  \n",
       "8123  clustered   leaves  \n",
       "\n",
       "[8124 rows x 23 columns]"
      ]
     },
     "execution_count": 213,
     "metadata": {},
     "output_type": "execute_result"
    }
   ],
   "source": [
    "df_decoded"
   ]
  },
  {
   "cell_type": "markdown",
   "metadata": {
    "id": "dePM9qXKQcwJ"
   },
   "source": [
    "## **2. Exploración de datos**"
   ]
  },
  {
   "cell_type": "code",
   "execution_count": 214,
   "metadata": {
    "colab": {
     "base_uri": "https://localhost:8080/"
    },
    "id": "9Xwo45zOJ7kl",
    "outputId": "0d1e90d8-0264-410f-c184-57075a3c027d"
   },
   "outputs": [
    {
     "name": "stdout",
     "output_type": "stream",
     "text": [
      "La forma del dataset es (8124, 23)\n",
      "Rows duplicadas en train dataset : 0\n"
     ]
    }
   ],
   "source": [
    "print('La forma del dataset es', df.shape)\n",
    "print('Rows duplicadas en train dataset :', df.duplicated().sum() )"
   ]
  },
  {
   "cell_type": "code",
   "execution_count": 215,
   "metadata": {
    "colab": {
     "base_uri": "https://localhost:8080/",
     "height": 276
    },
    "id": "45TsUuwkQcwJ",
    "outputId": "502d016a-e689-4e16-dd2f-5fdcfe7a0a6d"
   },
   "outputs": [
    {
     "data": {
      "text/html": [
       "<div>\n",
       "<style scoped>\n",
       "    .dataframe tbody tr th:only-of-type {\n",
       "        vertical-align: middle;\n",
       "    }\n",
       "\n",
       "    .dataframe tbody tr th {\n",
       "        vertical-align: top;\n",
       "    }\n",
       "\n",
       "    .dataframe thead th {\n",
       "        text-align: right;\n",
       "    }\n",
       "</style>\n",
       "<table border=\"1\" class=\"dataframe\">\n",
       "  <thead>\n",
       "    <tr style=\"text-align: right;\">\n",
       "      <th></th>\n",
       "      <th>class</th>\n",
       "      <th>cap-shape</th>\n",
       "      <th>cap-surface</th>\n",
       "      <th>cap-color</th>\n",
       "      <th>bruises</th>\n",
       "      <th>odor</th>\n",
       "      <th>gill-attachment</th>\n",
       "      <th>gill-spacing</th>\n",
       "      <th>gill-size</th>\n",
       "      <th>gill-color</th>\n",
       "      <th>...</th>\n",
       "      <th>stalk-surface-below-ring</th>\n",
       "      <th>stalk-color-above-ring</th>\n",
       "      <th>stalk-color-below-ring</th>\n",
       "      <th>veil-type</th>\n",
       "      <th>veil-color</th>\n",
       "      <th>ring-number</th>\n",
       "      <th>ring-type</th>\n",
       "      <th>spore-print-color</th>\n",
       "      <th>population</th>\n",
       "      <th>habitat</th>\n",
       "    </tr>\n",
       "  </thead>\n",
       "  <tbody>\n",
       "    <tr>\n",
       "      <th>count</th>\n",
       "      <td>8124</td>\n",
       "      <td>8124</td>\n",
       "      <td>8124</td>\n",
       "      <td>8124</td>\n",
       "      <td>8124</td>\n",
       "      <td>8124</td>\n",
       "      <td>8124</td>\n",
       "      <td>8124</td>\n",
       "      <td>8124</td>\n",
       "      <td>8124</td>\n",
       "      <td>...</td>\n",
       "      <td>8124</td>\n",
       "      <td>8124</td>\n",
       "      <td>8124</td>\n",
       "      <td>8124</td>\n",
       "      <td>8124</td>\n",
       "      <td>8124</td>\n",
       "      <td>8124</td>\n",
       "      <td>8124</td>\n",
       "      <td>8124</td>\n",
       "      <td>8124</td>\n",
       "    </tr>\n",
       "    <tr>\n",
       "      <th>unique</th>\n",
       "      <td>2</td>\n",
       "      <td>6</td>\n",
       "      <td>4</td>\n",
       "      <td>10</td>\n",
       "      <td>2</td>\n",
       "      <td>9</td>\n",
       "      <td>2</td>\n",
       "      <td>2</td>\n",
       "      <td>2</td>\n",
       "      <td>12</td>\n",
       "      <td>...</td>\n",
       "      <td>4</td>\n",
       "      <td>9</td>\n",
       "      <td>9</td>\n",
       "      <td>1</td>\n",
       "      <td>4</td>\n",
       "      <td>3</td>\n",
       "      <td>5</td>\n",
       "      <td>9</td>\n",
       "      <td>6</td>\n",
       "      <td>7</td>\n",
       "    </tr>\n",
       "    <tr>\n",
       "      <th>top</th>\n",
       "      <td>edible</td>\n",
       "      <td>convex</td>\n",
       "      <td>scaly</td>\n",
       "      <td>brown</td>\n",
       "      <td>no</td>\n",
       "      <td>none</td>\n",
       "      <td>free</td>\n",
       "      <td>close</td>\n",
       "      <td>broad</td>\n",
       "      <td>buff</td>\n",
       "      <td>...</td>\n",
       "      <td>smooth</td>\n",
       "      <td>white</td>\n",
       "      <td>white</td>\n",
       "      <td>partial</td>\n",
       "      <td>white</td>\n",
       "      <td>one</td>\n",
       "      <td>pendant</td>\n",
       "      <td>white</td>\n",
       "      <td>several</td>\n",
       "      <td>woods</td>\n",
       "    </tr>\n",
       "    <tr>\n",
       "      <th>freq</th>\n",
       "      <td>4208</td>\n",
       "      <td>3656</td>\n",
       "      <td>3244</td>\n",
       "      <td>2284</td>\n",
       "      <td>4748</td>\n",
       "      <td>3528</td>\n",
       "      <td>7914</td>\n",
       "      <td>6812</td>\n",
       "      <td>5612</td>\n",
       "      <td>1728</td>\n",
       "      <td>...</td>\n",
       "      <td>4936</td>\n",
       "      <td>4464</td>\n",
       "      <td>4384</td>\n",
       "      <td>8124</td>\n",
       "      <td>7924</td>\n",
       "      <td>7488</td>\n",
       "      <td>3968</td>\n",
       "      <td>2388</td>\n",
       "      <td>4040</td>\n",
       "      <td>3148</td>\n",
       "    </tr>\n",
       "  </tbody>\n",
       "</table>\n",
       "<p>4 rows × 23 columns</p>\n",
       "</div>"
      ],
      "text/plain": [
       "         class cap-shape cap-surface cap-color bruises  odor gill-attachment  \\\n",
       "count     8124      8124        8124      8124    8124  8124            8124   \n",
       "unique       2         6           4        10       2     9               2   \n",
       "top     edible    convex       scaly     brown      no  none            free   \n",
       "freq      4208      3656        3244      2284    4748  3528            7914   \n",
       "\n",
       "       gill-spacing gill-size gill-color  ... stalk-surface-below-ring  \\\n",
       "count          8124      8124       8124  ...                     8124   \n",
       "unique            2         2         12  ...                        4   \n",
       "top           close     broad       buff  ...                   smooth   \n",
       "freq           6812      5612       1728  ...                     4936   \n",
       "\n",
       "       stalk-color-above-ring stalk-color-below-ring veil-type veil-color  \\\n",
       "count                    8124                   8124      8124       8124   \n",
       "unique                      9                      9         1          4   \n",
       "top                     white                  white   partial      white   \n",
       "freq                     4464                   4384      8124       7924   \n",
       "\n",
       "       ring-number ring-type spore-print-color population habitat  \n",
       "count         8124      8124              8124       8124    8124  \n",
       "unique           3         5                 9          6       7  \n",
       "top            one   pendant             white    several   woods  \n",
       "freq          7488      3968              2388       4040    3148  \n",
       "\n",
       "[4 rows x 23 columns]"
      ]
     },
     "execution_count": 215,
     "metadata": {},
     "output_type": "execute_result"
    }
   ],
   "source": [
    "# Descripción del conjunto de datos, estándard.\n",
    "df_decoded.describe()"
   ]
  },
  {
   "cell_type": "code",
   "execution_count": 216,
   "metadata": {
    "colab": {
     "base_uri": "https://localhost:8080/"
    },
    "id": "9_cEerHGHgRW",
    "outputId": "e069578a-15a9-4ecd-f05e-7529d8f9abe2"
   },
   "outputs": [
    {
     "name": "stdout",
     "output_type": "stream",
     "text": [
      "<class 'pandas.core.frame.DataFrame'>\n",
      "RangeIndex: 8124 entries, 0 to 8123\n",
      "Data columns (total 23 columns):\n",
      " #   Column                    Non-Null Count  Dtype \n",
      "---  ------                    --------------  ----- \n",
      " 0   class                     8124 non-null   object\n",
      " 1   cap-shape                 8124 non-null   object\n",
      " 2   cap-surface               8124 non-null   object\n",
      " 3   cap-color                 8124 non-null   object\n",
      " 4   bruises                   8124 non-null   object\n",
      " 5   odor                      8124 non-null   object\n",
      " 6   gill-attachment           8124 non-null   object\n",
      " 7   gill-spacing              8124 non-null   object\n",
      " 8   gill-size                 8124 non-null   object\n",
      " 9   gill-color                8124 non-null   object\n",
      " 10  stalk-shape               8124 non-null   object\n",
      " 11  stalk-root                8124 non-null   object\n",
      " 12  stalk-surface-above-ring  8124 non-null   object\n",
      " 13  stalk-surface-below-ring  8124 non-null   object\n",
      " 14  stalk-color-above-ring    8124 non-null   object\n",
      " 15  stalk-color-below-ring    8124 non-null   object\n",
      " 16  veil-type                 8124 non-null   object\n",
      " 17  veil-color                8124 non-null   object\n",
      " 18  ring-number               8124 non-null   object\n",
      " 19  ring-type                 8124 non-null   object\n",
      " 20  spore-print-color         8124 non-null   object\n",
      " 21  population                8124 non-null   object\n",
      " 22  habitat                   8124 non-null   object\n",
      "dtypes: object(23)\n",
      "memory usage: 1.4+ MB\n"
     ]
    }
   ],
   "source": [
    "# Información sobre el tipo de datos de cada feature.\n",
    "df.info()"
   ]
  },
  {
   "cell_type": "markdown",
   "metadata": {
    "id": "Ag2hNtQhHgRY"
   },
   "source": [
    "###  **Análisis Descriptivo del Dataset**\n",
    "\n",
    "**Dataset:** 8,124 setas con 23 variables categóricas (sin valores nulos)\n",
    "\n",
    "#### Variable target balanceada:** 52% comestibles vs 48% venenosas\n",
    "- **Variable sin información:** `veil-type` tiene valor único ('p') → **eliminar**\n",
    "- **Variables con alta diversidad:** `gill-color` (12 categorías), `cap-color` (10), `odor` (9)\n",
    "- **Potencial predictivo alto:** Variables como `odor` y colores muestran buena variabilidad\n",
    "\n",
    "#### Acción requerida:\n",
    "Eliminar `veil-type` en el preprocesamiento por falta de variabilidad."
   ]
  },
  {
   "cell_type": "markdown",
   "metadata": {
    "id": "Md7i8gXBQcwJ"
   },
   "source": [
    "## **3. Calcular el número de nulos de cada feature**"
   ]
  },
  {
   "cell_type": "code",
   "execution_count": 217,
   "metadata": {
    "colab": {
     "base_uri": "https://localhost:8080/",
     "height": 805
    },
    "id": "8xXz4mT0QcwJ",
    "outputId": "33ea7f08-5945-4d56-9e7e-fdd0f46e15c8"
   },
   "outputs": [
    {
     "data": {
      "text/plain": [
       "class                       0\n",
       "cap-shape                   0\n",
       "cap-surface                 0\n",
       "cap-color                   0\n",
       "bruises                     0\n",
       "odor                        0\n",
       "gill-attachment             0\n",
       "gill-spacing                0\n",
       "gill-size                   0\n",
       "gill-color                  0\n",
       "stalk-shape                 0\n",
       "stalk-root                  0\n",
       "stalk-surface-above-ring    0\n",
       "stalk-surface-below-ring    0\n",
       "stalk-color-above-ring      0\n",
       "stalk-color-below-ring      0\n",
       "veil-type                   0\n",
       "veil-color                  0\n",
       "ring-number                 0\n",
       "ring-type                   0\n",
       "spore-print-color           0\n",
       "population                  0\n",
       "habitat                     0\n",
       "dtype: int64"
      ]
     },
     "execution_count": 217,
     "metadata": {},
     "output_type": "execute_result"
    }
   ],
   "source": [
    "# Igual que otras veces, una linea, contar los nulos por variable.\n",
    "df.isnull().sum()"
   ]
  },
  {
   "cell_type": "markdown",
   "metadata": {
    "id": "zEkPCDjwHgRa"
   },
   "source": [
    "### **Información de Tipos de Datos**\n",
    "\n",
    "**Estructura:** 8,124 filas × 23 columnas | **Memoria:** 1.4+ MB\n",
    "\n",
    "#### Confirmaciones:\n",
    "- **Sin valores nulos:** Todas las columnas tienen 8,124 valores completos\n",
    "- **Tipo homogéneo:** Las 23 variables son `object` (categóricas en pandas)\n",
    "- **Dataset limpio:** No requiere imputación de valores faltantes\n",
    "- **Listo para encoding:** Todas las variables necesitarán transformación a numéricas\n"
   ]
  },
  {
   "cell_type": "markdown",
   "metadata": {
    "id": "MJv-ez3WQcwK"
   },
   "source": [
    "## **4. Buscar valores extraños. Para ello, ver los valores únicos en cada feature**"
   ]
  },
  {
   "cell_type": "code",
   "execution_count": 218,
   "metadata": {
    "colab": {
     "base_uri": "https://localhost:8080/",
     "height": 770
    },
    "id": "fUZ2EHmTQcwK",
    "outputId": "b9a59c06-25ed-4ae9-d838-2579a204884d"
   },
   "outputs": [
    {
     "data": {
      "text/html": [
       "<div>\n",
       "<style scoped>\n",
       "    .dataframe tbody tr th:only-of-type {\n",
       "        vertical-align: middle;\n",
       "    }\n",
       "\n",
       "    .dataframe tbody tr th {\n",
       "        vertical-align: top;\n",
       "    }\n",
       "\n",
       "    .dataframe thead th {\n",
       "        text-align: right;\n",
       "    }\n",
       "</style>\n",
       "<table border=\"1\" class=\"dataframe\">\n",
       "  <thead>\n",
       "    <tr style=\"text-align: right;\">\n",
       "      <th></th>\n",
       "      <th>features</th>\n",
       "      <th>n_values</th>\n",
       "    </tr>\n",
       "  </thead>\n",
       "  <tbody>\n",
       "    <tr>\n",
       "      <th>0</th>\n",
       "      <td>class</td>\n",
       "      <td>2</td>\n",
       "    </tr>\n",
       "    <tr>\n",
       "      <th>1</th>\n",
       "      <td>cap-shape</td>\n",
       "      <td>6</td>\n",
       "    </tr>\n",
       "    <tr>\n",
       "      <th>2</th>\n",
       "      <td>cap-surface</td>\n",
       "      <td>4</td>\n",
       "    </tr>\n",
       "    <tr>\n",
       "      <th>3</th>\n",
       "      <td>cap-color</td>\n",
       "      <td>10</td>\n",
       "    </tr>\n",
       "    <tr>\n",
       "      <th>4</th>\n",
       "      <td>bruises</td>\n",
       "      <td>2</td>\n",
       "    </tr>\n",
       "    <tr>\n",
       "      <th>5</th>\n",
       "      <td>odor</td>\n",
       "      <td>9</td>\n",
       "    </tr>\n",
       "    <tr>\n",
       "      <th>6</th>\n",
       "      <td>gill-attachment</td>\n",
       "      <td>2</td>\n",
       "    </tr>\n",
       "    <tr>\n",
       "      <th>7</th>\n",
       "      <td>gill-spacing</td>\n",
       "      <td>2</td>\n",
       "    </tr>\n",
       "    <tr>\n",
       "      <th>8</th>\n",
       "      <td>gill-size</td>\n",
       "      <td>2</td>\n",
       "    </tr>\n",
       "    <tr>\n",
       "      <th>9</th>\n",
       "      <td>gill-color</td>\n",
       "      <td>12</td>\n",
       "    </tr>\n",
       "    <tr>\n",
       "      <th>10</th>\n",
       "      <td>stalk-shape</td>\n",
       "      <td>2</td>\n",
       "    </tr>\n",
       "    <tr>\n",
       "      <th>11</th>\n",
       "      <td>stalk-root</td>\n",
       "      <td>5</td>\n",
       "    </tr>\n",
       "    <tr>\n",
       "      <th>12</th>\n",
       "      <td>stalk-surface-above-ring</td>\n",
       "      <td>4</td>\n",
       "    </tr>\n",
       "    <tr>\n",
       "      <th>13</th>\n",
       "      <td>stalk-surface-below-ring</td>\n",
       "      <td>4</td>\n",
       "    </tr>\n",
       "    <tr>\n",
       "      <th>14</th>\n",
       "      <td>stalk-color-above-ring</td>\n",
       "      <td>9</td>\n",
       "    </tr>\n",
       "    <tr>\n",
       "      <th>15</th>\n",
       "      <td>stalk-color-below-ring</td>\n",
       "      <td>9</td>\n",
       "    </tr>\n",
       "    <tr>\n",
       "      <th>16</th>\n",
       "      <td>veil-type</td>\n",
       "      <td>1</td>\n",
       "    </tr>\n",
       "    <tr>\n",
       "      <th>17</th>\n",
       "      <td>veil-color</td>\n",
       "      <td>4</td>\n",
       "    </tr>\n",
       "    <tr>\n",
       "      <th>18</th>\n",
       "      <td>ring-number</td>\n",
       "      <td>3</td>\n",
       "    </tr>\n",
       "    <tr>\n",
       "      <th>19</th>\n",
       "      <td>ring-type</td>\n",
       "      <td>5</td>\n",
       "    </tr>\n",
       "    <tr>\n",
       "      <th>20</th>\n",
       "      <td>spore-print-color</td>\n",
       "      <td>9</td>\n",
       "    </tr>\n",
       "    <tr>\n",
       "      <th>21</th>\n",
       "      <td>population</td>\n",
       "      <td>6</td>\n",
       "    </tr>\n",
       "    <tr>\n",
       "      <th>22</th>\n",
       "      <td>habitat</td>\n",
       "      <td>7</td>\n",
       "    </tr>\n",
       "  </tbody>\n",
       "</table>\n",
       "</div>"
      ],
      "text/plain": [
       "                    features  n_values\n",
       "0                      class         2\n",
       "1                  cap-shape         6\n",
       "2                cap-surface         4\n",
       "3                  cap-color        10\n",
       "4                    bruises         2\n",
       "5                       odor         9\n",
       "6            gill-attachment         2\n",
       "7               gill-spacing         2\n",
       "8                  gill-size         2\n",
       "9                 gill-color        12\n",
       "10               stalk-shape         2\n",
       "11                stalk-root         5\n",
       "12  stalk-surface-above-ring         4\n",
       "13  stalk-surface-below-ring         4\n",
       "14    stalk-color-above-ring         9\n",
       "15    stalk-color-below-ring         9\n",
       "16                 veil-type         1\n",
       "17                veil-color         4\n",
       "18               ring-number         3\n",
       "19                 ring-type         5\n",
       "20         spore-print-color         9\n",
       "21                population         6\n",
       "22                   habitat         7"
      ]
     },
     "execution_count": 218,
     "metadata": {},
     "output_type": "execute_result"
    }
   ],
   "source": [
    "# Obtener un nuevo dataframe de dos columnas donde en la primera estén las features (features) y en la otra los valores únicos\n",
    "# asociados (n_values).\n",
    "unique_values_df = pd.DataFrame({\n",
    "    'features': df_decoded.columns,\n",
    "    'n_values': [df_decoded[col].nunique() for col in df_decoded.columns]\n",
    "})\n",
    "unique_values_df"
   ]
  },
  {
   "cell_type": "markdown",
   "metadata": {
    "id": "glcxWh_QHgRc"
   },
   "source": [
    "### **Análisis de Valores Únicos por Variable**\n",
    "\n",
    "#### Variables Problemáticas:\n",
    "- **`veil-type`**: 1 valor único → **ELIMINAR** (no aporta información)\n",
    "\n",
    "#### Variables Binarias (2 valores):\n",
    "- `class` (target), `bruises`, `gill-attachment`, `gill-spacing`, `gill-size`, `stalk-shape`\n",
    "\n",
    "#### Variables con Alta Diversidad:\n",
    "- **`gill-color`**: 12 categorías (máxima diversidad)\n",
    "- **`cap-color`**: 10 categorías  \n",
    "- **`odor`**: 9 categorías (potencial predictivo alto)\n",
    "- **`stalk-color-above-ring`** y **`stalk-color-below-ring`**: 9 categorías cada una\n",
    "\n",
    "#### Variables de Cardinalidad Media:\n",
    "- **`habitat`**: 7 categorías\n",
    "- **`cap-shape`**: 6 categorías\n",
    "- **`stalk-root`**: 5 categorías\n",
    "\n",
    "#### Conclusión:\n",
    "Confirmamos que `veil-type` debe eliminarse. El resto muestra buena variabilidad para clustering."
   ]
  },
  {
   "cell_type": "code",
   "execution_count": 219,
   "metadata": {
    "colab": {
     "base_uri": "https://localhost:8080/"
    },
    "id": "HTF0Dhr9Kdxy",
    "outputId": "ff4a8bd7-9aa6-47f0-8069-e8219bd1f3f0"
   },
   "outputs": [
    {
     "name": "stdout",
     "output_type": "stream",
     "text": [
      "class: ['p' 'e']\n",
      "cap-shape: ['x' 'b' 's' 'f' 'k' 'c']\n",
      "cap-surface: ['s' 'y' 'f' 'g']\n",
      "cap-color: ['n' 'y' 'w' 'g' 'e' 'p' 'b' 'u' 'c' 'r']\n",
      "bruises: ['t' 'f']\n",
      "odor: ['p' 'a' 'l' 'n' 'f' 'c' 'y' 's' 'm']\n",
      "gill-attachment: ['f' 'a']\n",
      "gill-spacing: ['c' 'w']\n",
      "gill-size: ['n' 'b']\n",
      "gill-color: ['k' 'n' 'g' 'p' 'w' 'h' 'u' 'e' 'b' 'r' 'y' 'o']\n",
      "stalk-shape: ['e' 't']\n",
      "stalk-root: ['e' 'c' 'b' 'r' '?']\n",
      "stalk-surface-above-ring: ['s' 'f' 'k' 'y']\n",
      "stalk-surface-below-ring: ['s' 'f' 'y' 'k']\n",
      "stalk-color-above-ring: ['w' 'g' 'p' 'n' 'b' 'e' 'o' 'c' 'y']\n",
      "stalk-color-below-ring: ['w' 'p' 'g' 'b' 'n' 'e' 'y' 'o' 'c']\n",
      "veil-type: ['p']\n",
      "veil-color: ['w' 'n' 'o' 'y']\n",
      "ring-number: ['o' 't' 'n']\n",
      "ring-type: ['p' 'e' 'l' 'f' 'n']\n",
      "spore-print-color: ['k' 'n' 'u' 'h' 'w' 'r' 'o' 'y' 'b']\n",
      "population: ['s' 'n' 'a' 'v' 'y' 'c']\n",
      "habitat: ['u' 'g' 'm' 'd' 'p' 'w' 'l']\n"
     ]
    }
   ],
   "source": [
    "for col in df.columns:\n",
    "    print(f\"{col}: {df[col].unique()}\")"
   ]
  },
  {
   "cell_type": "markdown",
   "metadata": {
    "id": "YXIyz_tdQcwK"
   },
   "source": [
    "## **5. Tratar aquellos valores que entendamos que sean nulos**\n"
   ]
  },
  {
   "cell_type": "code",
   "execution_count": 220,
   "metadata": {
    "colab": {
     "base_uri": "https://localhost:8080/"
    },
    "id": "OVQnxK1gQcwK",
    "outputId": "24ed19d2-f6b2-4b4b-f640-837ff174e327"
   },
   "outputs": [
    {
     "name": "stdout",
     "output_type": "stream",
     "text": [
      "Columna stalk-root tiene valores '?': 2480 casos\n",
      "Valores únicos en stalk-root: ['equal' 'club' 'bulbous' 'rooted' 'missing']\n"
     ]
    }
   ],
   "source": [
    "# Imputaciones. Podéis quitar esos puntos (fila entera), imputar con la moda o dejar ese valor como una posibilidad más.\n",
    "# Primero, veamos si hay valores extraños como '?' en alguna columna\n",
    "for col in df_decoded.columns:\n",
    "   unique_vals = df_decoded[col].unique()\n",
    "   if 'missing' in unique_vals:\n",
    "       print(f\"Columna {col} tiene valores '?': {sum(df_decoded[col] == 'missing')} casos\")\n",
    "       print(f\"Valores únicos en {col}: {unique_vals}\")"
   ]
  },
  {
   "cell_type": "code",
   "execution_count": 221,
   "metadata": {
    "id": "nh9iK5XdLjF1"
   },
   "outputs": [],
   "source": [
    "df_decoded.replace(\"missing\", np.nan, inplace=True)"
   ]
  },
  {
   "cell_type": "code",
   "execution_count": 222,
   "metadata": {
    "colab": {
     "base_uri": "https://localhost:8080/",
     "height": 805
    },
    "id": "0MbaUHtKLSn_",
    "outputId": "47cb87b2-f26d-440c-e0d7-10d899ac6b65"
   },
   "outputs": [
    {
     "name": "stdout",
     "output_type": "stream",
     "text": [
      "\n",
      "Porcentaje de valores faltantes por columna:\n"
     ]
    },
    {
     "data": {
      "text/html": [
       "<div>\n",
       "<style scoped>\n",
       "    .dataframe tbody tr th:only-of-type {\n",
       "        vertical-align: middle;\n",
       "    }\n",
       "\n",
       "    .dataframe tbody tr th {\n",
       "        vertical-align: top;\n",
       "    }\n",
       "\n",
       "    .dataframe thead th {\n",
       "        text-align: right;\n",
       "    }\n",
       "</style>\n",
       "<table border=\"1\" class=\"dataframe\">\n",
       "  <thead>\n",
       "    <tr style=\"text-align: right;\">\n",
       "      <th></th>\n",
       "      <th>Missing Values</th>\n",
       "      <th>Percentage</th>\n",
       "    </tr>\n",
       "  </thead>\n",
       "  <tbody>\n",
       "    <tr>\n",
       "      <th>stalk-root</th>\n",
       "      <td>2480</td>\n",
       "      <td>30.526834</td>\n",
       "    </tr>\n",
       "    <tr>\n",
       "      <th>cap-shape</th>\n",
       "      <td>0</td>\n",
       "      <td>0.000000</td>\n",
       "    </tr>\n",
       "    <tr>\n",
       "      <th>class</th>\n",
       "      <td>0</td>\n",
       "      <td>0.000000</td>\n",
       "    </tr>\n",
       "    <tr>\n",
       "      <th>cap-color</th>\n",
       "      <td>0</td>\n",
       "      <td>0.000000</td>\n",
       "    </tr>\n",
       "    <tr>\n",
       "      <th>bruises</th>\n",
       "      <td>0</td>\n",
       "      <td>0.000000</td>\n",
       "    </tr>\n",
       "    <tr>\n",
       "      <th>odor</th>\n",
       "      <td>0</td>\n",
       "      <td>0.000000</td>\n",
       "    </tr>\n",
       "    <tr>\n",
       "      <th>cap-surface</th>\n",
       "      <td>0</td>\n",
       "      <td>0.000000</td>\n",
       "    </tr>\n",
       "    <tr>\n",
       "      <th>gill-attachment</th>\n",
       "      <td>0</td>\n",
       "      <td>0.000000</td>\n",
       "    </tr>\n",
       "    <tr>\n",
       "      <th>gill-spacing</th>\n",
       "      <td>0</td>\n",
       "      <td>0.000000</td>\n",
       "    </tr>\n",
       "    <tr>\n",
       "      <th>gill-color</th>\n",
       "      <td>0</td>\n",
       "      <td>0.000000</td>\n",
       "    </tr>\n",
       "    <tr>\n",
       "      <th>gill-size</th>\n",
       "      <td>0</td>\n",
       "      <td>0.000000</td>\n",
       "    </tr>\n",
       "    <tr>\n",
       "      <th>stalk-shape</th>\n",
       "      <td>0</td>\n",
       "      <td>0.000000</td>\n",
       "    </tr>\n",
       "    <tr>\n",
       "      <th>stalk-surface-above-ring</th>\n",
       "      <td>0</td>\n",
       "      <td>0.000000</td>\n",
       "    </tr>\n",
       "    <tr>\n",
       "      <th>stalk-surface-below-ring</th>\n",
       "      <td>0</td>\n",
       "      <td>0.000000</td>\n",
       "    </tr>\n",
       "    <tr>\n",
       "      <th>stalk-color-above-ring</th>\n",
       "      <td>0</td>\n",
       "      <td>0.000000</td>\n",
       "    </tr>\n",
       "    <tr>\n",
       "      <th>stalk-color-below-ring</th>\n",
       "      <td>0</td>\n",
       "      <td>0.000000</td>\n",
       "    </tr>\n",
       "    <tr>\n",
       "      <th>veil-type</th>\n",
       "      <td>0</td>\n",
       "      <td>0.000000</td>\n",
       "    </tr>\n",
       "    <tr>\n",
       "      <th>veil-color</th>\n",
       "      <td>0</td>\n",
       "      <td>0.000000</td>\n",
       "    </tr>\n",
       "    <tr>\n",
       "      <th>ring-number</th>\n",
       "      <td>0</td>\n",
       "      <td>0.000000</td>\n",
       "    </tr>\n",
       "    <tr>\n",
       "      <th>ring-type</th>\n",
       "      <td>0</td>\n",
       "      <td>0.000000</td>\n",
       "    </tr>\n",
       "    <tr>\n",
       "      <th>spore-print-color</th>\n",
       "      <td>0</td>\n",
       "      <td>0.000000</td>\n",
       "    </tr>\n",
       "    <tr>\n",
       "      <th>population</th>\n",
       "      <td>0</td>\n",
       "      <td>0.000000</td>\n",
       "    </tr>\n",
       "    <tr>\n",
       "      <th>habitat</th>\n",
       "      <td>0</td>\n",
       "      <td>0.000000</td>\n",
       "    </tr>\n",
       "  </tbody>\n",
       "</table>\n",
       "</div>"
      ],
      "text/plain": [
       "                          Missing Values  Percentage\n",
       "stalk-root                          2480   30.526834\n",
       "cap-shape                              0    0.000000\n",
       "class                                  0    0.000000\n",
       "cap-color                              0    0.000000\n",
       "bruises                                0    0.000000\n",
       "odor                                   0    0.000000\n",
       "cap-surface                            0    0.000000\n",
       "gill-attachment                        0    0.000000\n",
       "gill-spacing                           0    0.000000\n",
       "gill-color                             0    0.000000\n",
       "gill-size                              0    0.000000\n",
       "stalk-shape                            0    0.000000\n",
       "stalk-surface-above-ring               0    0.000000\n",
       "stalk-surface-below-ring               0    0.000000\n",
       "stalk-color-above-ring                 0    0.000000\n",
       "stalk-color-below-ring                 0    0.000000\n",
       "veil-type                              0    0.000000\n",
       "veil-color                             0    0.000000\n",
       "ring-number                            0    0.000000\n",
       "ring-type                              0    0.000000\n",
       "spore-print-color                      0    0.000000\n",
       "population                             0    0.000000\n",
       "habitat                                0    0.000000"
      ]
     },
     "execution_count": 222,
     "metadata": {},
     "output_type": "execute_result"
    }
   ],
   "source": [
    "# Análisis de Missing Values\n",
    "missing_data = df_decoded.isnull().sum()\n",
    "missing_data_percentage = (missing_data / len(df_decoded)) * 100\n",
    "\n",
    "# Crear un dataframe con ambas columnas\n",
    "missing_summary = pd.DataFrame({'Missing Values': missing_data,'Percentage': missing_data_percentage})\n",
    "\n",
    "# Mostrar resultados\n",
    "print(\"\\nPorcentaje de valores faltantes por columna:\")\n",
    "missing_summary.sort_values(by='Percentage', ascending=False)"
   ]
  },
  {
   "cell_type": "code",
   "execution_count": 223,
   "metadata": {
    "id": "T0iZkLUBLvQB"
   },
   "outputs": [],
   "source": [
    "df_decoded['stalk_root_missing'] = df_decoded['stalk-root'].isna().astype(int)"
   ]
  },
  {
   "cell_type": "code",
   "execution_count": 224,
   "metadata": {
    "colab": {
     "base_uri": "https://localhost:8080/"
    },
    "id": "JZ9F-ERBLxmY",
    "outputId": "ce23a168-35f7-45c2-8b4e-e758f1bb3789"
   },
   "outputs": [
    {
     "name": "stdout",
     "output_type": "stream",
     "text": [
      "\n",
      "Porcentaje de missing en 'stalk-root' según 'class':\n",
      "class\n",
      "edible       0.171103\n",
      "poisonous    0.449438\n",
      "Name: stalk_root_missing, dtype: float64\n",
      "\n",
      "Porcentaje de missing en 'stalk-root' según 'cap-shape':\n",
      "cap-shape\n",
      "bell       0.336283\n",
      "conical    0.000000\n",
      "convex     0.223195\n",
      "flat       0.228426\n",
      "knobbed    0.956522\n",
      "sunken     0.000000\n",
      "Name: stalk_root_missing, dtype: float64\n",
      "\n",
      "Porcentaje de missing en 'stalk-root' según 'cap-surface':\n",
      "cap-surface\n",
      "fibrous    0.068966\n",
      "grooves    0.000000\n",
      "scaly      0.315660\n",
      "smooth     0.507042\n",
      "Name: stalk_root_missing, dtype: float64\n",
      "\n",
      "Porcentaje de missing en 'stalk-root' según 'cap-color':\n",
      "cap-color\n",
      "brown       0.490368\n",
      "buff        0.285714\n",
      "cinnamon    0.000000\n",
      "gray        0.078261\n",
      "green       1.000000\n",
      "pink        0.333333\n",
      "purple      1.000000\n",
      "red         0.608000\n",
      "white       0.153846\n",
      "yellow      0.014925\n",
      "Name: stalk_root_missing, dtype: float64\n",
      "\n",
      "Porcentaje de missing en 'stalk-root' según 'bruises':\n",
      "bruises\n",
      "bruises    0.056872\n",
      "no         0.481887\n",
      "Name: stalk_root_missing, dtype: float64\n",
      "\n",
      "Porcentaje de missing en 'stalk-root' según 'odor':\n",
      "odor\n",
      "almond      0.000000\n",
      "anise       0.000000\n",
      "creosote    0.000000\n",
      "fishy       1.000000\n",
      "foul        0.266667\n",
      "musty       0.000000\n",
      "none        0.213152\n",
      "pungent     0.000000\n",
      "spicy       1.000000\n",
      "Name: stalk_root_missing, dtype: float64\n",
      "\n",
      "Porcentaje de missing en 'stalk-root' según 'gill-attachment':\n",
      "gill-attachment\n",
      "attached    0.914286\n",
      "free        0.289108\n",
      "Name: stalk_root_missing, dtype: float64\n",
      "\n",
      "Porcentaje de missing en 'stalk-root' según 'gill-spacing':\n",
      "gill-spacing\n",
      "close      0.321785\n",
      "crowded    0.219512\n",
      "Name: stalk_root_missing, dtype: float64\n",
      "\n",
      "Porcentaje de missing en 'stalk-root' según 'gill-size':\n",
      "gill-size\n",
      "broad     0.119743\n",
      "narrow    0.719745\n",
      "Name: stalk_root_missing, dtype: float64\n",
      "\n",
      "Porcentaje de missing en 'stalk-root' según 'gill-color':\n",
      "gill-color\n",
      "black        0.000000\n",
      "brown        0.061069\n",
      "buff         1.000000\n",
      "chocolate    0.016393\n",
      "gray         0.127660\n",
      "green        0.000000\n",
      "orange       1.000000\n",
      "pink         0.072386\n",
      "purple       0.024390\n",
      "red          1.000000\n",
      "white        0.196339\n",
      "yellow       0.744186\n",
      "Name: stalk_root_missing, dtype: float64\n",
      "\n",
      "Porcentaje de missing en 'stalk-root' según 'stalk-shape':\n",
      "stalk-shape\n",
      "enlarging    0.213879\n",
      "tapering     0.375000\n",
      "Name: stalk_root_missing, dtype: float64\n",
      "\n",
      "Porcentaje de missing en 'stalk-root' según 'stalk-root':\n",
      "stalk-root\n",
      "bulbous    0.0\n",
      "club       0.0\n",
      "equal      0.0\n",
      "rooted     0.0\n",
      "Name: stalk_root_missing, dtype: float64\n",
      "\n",
      "Porcentaje de missing en 'stalk-root' según 'stalk-surface-above-ring':\n",
      "stalk-surface-above-ring\n",
      "fibrous    0.000000\n",
      "scaly      0.000000\n",
      "silky      0.438449\n",
      "smooth     0.278207\n",
      "Name: stalk_root_missing, dtype: float64\n",
      "\n",
      "Porcentaje de missing en 'stalk-root' según 'stalk-surface-below-ring':\n",
      "stalk-surface-below-ring\n",
      "fibrous    0.080000\n",
      "scaly      0.112676\n",
      "silky      0.437500\n",
      "smooth     0.282010\n",
      "Name: stalk_root_missing, dtype: float64\n",
      "\n",
      "Porcentaje de missing en 'stalk-root' según 'stalk-color-above-ring':\n",
      "stalk-color-above-ring\n",
      "brown       0.000000\n",
      "buff        0.000000\n",
      "cinnamon    0.000000\n",
      "gray        0.000000\n",
      "orange      1.000000\n",
      "pink        0.461538\n",
      "red         1.000000\n",
      "white       0.297491\n",
      "yellow      0.000000\n",
      "Name: stalk_root_missing, dtype: float64\n",
      "\n",
      "Porcentaje de missing en 'stalk-root' según 'stalk-color-below-ring':\n",
      "stalk-color-below-ring\n",
      "brown       0.031250\n",
      "buff        0.000000\n",
      "cinnamon    0.000000\n",
      "gray        0.000000\n",
      "orange      1.000000\n",
      "pink        0.461538\n",
      "red         1.000000\n",
      "white       0.295620\n",
      "yellow      0.666667\n",
      "Name: stalk_root_missing, dtype: float64\n",
      "\n",
      "Porcentaje de missing en 'stalk-root' según 'veil-type':\n",
      "veil-type\n",
      "partial    0.305268\n",
      "Name: stalk_root_missing, dtype: float64\n",
      "\n",
      "Porcentaje de missing en 'stalk-root' según 'veil-color':\n",
      "veil-color\n",
      "brown     1.000000\n",
      "orange    1.000000\n",
      "white     0.288743\n",
      "yellow    0.000000\n",
      "Name: stalk_root_missing, dtype: float64\n",
      "\n",
      "Porcentaje de missing en 'stalk-root' según 'ring-number':\n",
      "ring-number\n",
      "none    0.000000\n",
      "one     0.267094\n",
      "two     0.800000\n",
      "Name: stalk_root_missing, dtype: float64\n",
      "\n",
      "Porcentaje de missing en 'stalk-root' según 'ring-type':\n",
      "ring-type\n",
      "evanescent    0.703170\n",
      "flaring       1.000000\n",
      "large         0.000000\n",
      "none          0.000000\n",
      "pendant       0.120968\n",
      "Name: stalk_root_missing, dtype: float64\n",
      "\n",
      "Porcentaje de missing en 'stalk-root' según 'spore-print-color':\n",
      "spore-print-color\n",
      "black        0.000000\n",
      "brown        0.024390\n",
      "buff         1.000000\n",
      "chocolate    0.029412\n",
      "green        0.000000\n",
      "orange       1.000000\n",
      "purple       0.000000\n",
      "white        0.938023\n",
      "yellow       1.000000\n",
      "Name: stalk_root_missing, dtype: float64\n",
      "\n",
      "Porcentaje de missing en 'stalk-root' según 'population':\n",
      "population\n",
      "abundant     0.000000\n",
      "clustered    0.847059\n",
      "numerous     0.360000\n",
      "scattered    0.115385\n",
      "several      0.465347\n",
      "solitary     0.014019\n",
      "Name: stalk_root_missing, dtype: float64\n",
      "\n",
      "Porcentaje de missing en 'stalk-root' según 'habitat':\n",
      "habitat\n",
      "grasses    0.134078\n",
      "leaves     0.923077\n",
      "meadows    0.000000\n",
      "paths      0.503497\n",
      "urban      0.000000\n",
      "waste      1.000000\n",
      "woods      0.208386\n",
      "Name: stalk_root_missing, dtype: float64\n"
     ]
    }
   ],
   "source": [
    "for col in df_decoded.columns:\n",
    "    if col != 'stalk_root_missing':  # evitamos cruzarla consigo misma\n",
    "        rate = df_decoded.groupby(col)['stalk_root_missing'].mean()\n",
    "        print(f\"\\nPorcentaje de missing en 'stalk-root' según '{col}':\\n{rate}\")"
   ]
  },
  {
   "cell_type": "markdown",
   "metadata": {
    "id": "_5wBeWOdL2RZ"
   },
   "source": [
    "El missing (stalk-root) se relaciona con muchas variables del dataset como:\n",
    "\n",
    "- odor (100% en fishy y spicy),\n",
    "\n",
    "- ring-type(100% en flaring),\n",
    "\n",
    "- cap-shape(96% en knobbed),\n",
    "\n",
    "- spore-print-color(93% en wite,buff,orange),\n",
    "\n",
    "- habitat(más de 90% en waste,leaves),\n",
    "\n",
    "- population(85% en clustered),\n",
    "\n",
    "- class (45% en poisonous)\n",
    "\n",
    "Podemos afirmar que los datos faltantes son MAR (Missing At Random), condicionado a otras variables."
   ]
  },
  {
   "cell_type": "code",
   "execution_count": 225,
   "metadata": {
    "colab": {
     "base_uri": "https://localhost:8080/"
    },
    "id": "HN_R4DN8MnRQ",
    "outputId": "e6a54c8c-a050-4df1-88bf-5ec09de68ba6"
   },
   "outputs": [
    {
     "name": "stdout",
     "output_type": "stream",
     "text": [
      "Chi2 statistic: 739.6348785045413, P-value: 7.197356068384773e-163\n"
     ]
    }
   ],
   "source": [
    "from scipy.stats import chi2_contingency\n",
    "\n",
    "# Contar ocurrencias de cada categoría en función de si hay NaN o no\n",
    "contingency_table = pd.crosstab(df_decoded['stalk_root_missing'], df_decoded['class'])\n",
    "chi2_stat, p_val, dof, expected = chi2_contingency(contingency_table)\n",
    "\n",
    "print(f\"Chi2 statistic: {chi2_stat}, P-value: {p_val}\")"
   ]
  },
  {
   "cell_type": "markdown",
   "metadata": {
    "id": "QThYsuByMsJi"
   },
   "source": [
    "El p-value es muy muy bajo (mucho < 0.05) y el chi-cuadrado muy alto, por lo que podemos rechazar la hipótesis nula de independencia, lo que sugiere que los faltantes podrían ser MNAR."
   ]
  },
  {
   "cell_type": "code",
   "execution_count": 226,
   "metadata": {
    "id": "uAq1AQurMutb"
   },
   "outputs": [],
   "source": [
    "df_decoded.drop(columns=['stalk_root_missing'], inplace=True)"
   ]
  },
  {
   "cell_type": "code",
   "execution_count": 227,
   "metadata": {
    "id": "qC_E-dpIMxko"
   },
   "outputs": [],
   "source": [
    "df_decoded['stalk-root'] = df_decoded['stalk-root'].fillna('missing')"
   ]
  },
  {
   "cell_type": "markdown",
   "metadata": {
    "id": "w72FDh9XHgRe"
   },
   "source": [
    "### **Valores Faltantes Detectados**\n",
    "\n",
    "#### Problema encontrado:\n",
    "- **`stalk-root`**: 2,480 casos con '?' (30.5% del dataset)\n",
    "- **Valores válidos**: ['e', 'c', 'b', 'r'] + '?' (nulo)\n",
    "\n",
    "#### Opciones de tratamiento:\n",
    "1. **Eliminar filas** con '?' (perdemos 30% de datos)\n",
    "2. **Imputar con moda** (categoría más frecuente)\n",
    "3. **Tratar '?' como categoría** independiente\n",
    "\n",
    "#### Decisión adoptada:\n",
    "**Opción 3** - Mantener '?' como categoría válida porque:\n",
    "- Preserva el 30% de observaciones (crucial para clustering)\n",
    "- No introduce sesgo artificial en los datos\n",
    "- '?' representa información real: \"raíz no visible/identificable\"\n",
    "- Permite que el clustering detecte patrones naturales en setas con esta característica"
   ]
  },
  {
   "cell_type": "markdown",
   "metadata": {
    "id": "8dbmx1Z7QcwK"
   },
   "source": [
    "## **6. Mirad cuántos valores hay en cada feature, ¿Todas las features aportan información? Si alguna no aporta información, eliminadla**"
   ]
  },
  {
   "cell_type": "code",
   "execution_count": 228,
   "metadata": {
    "colab": {
     "base_uri": "https://localhost:8080/"
    },
    "id": "ts2xeUavQcwK",
    "outputId": "78deb179-8348-4126-a915-4eb184b90939"
   },
   "outputs": [
    {
     "name": "stdout",
     "output_type": "stream",
     "text": [
      "Features con un solo valor único (no informativas):\n",
      "['veil-type']\n",
      "\n",
      "Dataset original: (8124, 23)\n",
      "Dataset limpio: (8124, 22)\n",
      "Features eliminadas: ['veil-type']\n"
     ]
    }
   ],
   "source": [
    "# Dejar por el camino si procede.\n",
    "print(\"Features con un solo valor único (no informativas):\")\n",
    "features_to_drop = unique_values_df[unique_values_df['n_values'] == 1]['features'].tolist()\n",
    "print(features_to_drop)\n",
    "\n",
    "# Eliminar la feature que no aporta información\n",
    "df_decoded_clean = df_decoded.drop(columns=features_to_drop)\n",
    "print(f\"\\nDataset original: {df_decoded.shape}\")\n",
    "print(f\"Dataset limpio: {df_decoded_clean.shape}\")\n",
    "print(f\"Features eliminadas: {features_to_drop}\")"
   ]
  },
  {
   "cell_type": "markdown",
   "metadata": {
    "id": "rJuGGOthHgRf"
   },
   "source": [
    "### **Eliminación de Variables No Informativas**\n",
    "\n",
    "#### Resultado:\n",
    "- **Variable eliminada:** `veil-type` (valor constante 'p')\n",
    "- **Dataset:** 8,124 filas × 22 columnas (era 23)\n",
    "- **Justificación:** Variables con varianza cero no aportan información para clustering"
   ]
  },
  {
   "cell_type": "code",
   "execution_count": 229,
   "metadata": {
    "colab": {
     "base_uri": "https://localhost:8080/"
    },
    "id": "FVgNOUQpNZ92",
    "outputId": "89e8c026-40cf-4bef-8c48-bc3f18be6dfa"
   },
   "outputs": [
    {
     "name": "stdout",
     "output_type": "stream",
     "text": [
      "class\n",
      "edible       0.517971\n",
      "poisonous    0.482029\n",
      "Name: proportion, dtype: float64 \n",
      "\n",
      "cap-shape\n",
      "convex     0.450025\n",
      "flat       0.387986\n",
      "knobbed    0.101920\n",
      "bell       0.055638\n",
      "sunken     0.003939\n",
      "conical    0.000492\n",
      "Name: proportion, dtype: float64 \n",
      "\n",
      "cap-surface\n",
      "scaly      0.399311\n",
      "smooth     0.314623\n",
      "fibrous    0.285574\n",
      "grooves    0.000492\n",
      "Name: proportion, dtype: float64 \n",
      "\n",
      "cap-color\n",
      "brown       0.281142\n",
      "gray        0.226489\n",
      "red         0.184638\n",
      "yellow      0.131955\n",
      "white       0.128016\n",
      "buff        0.020679\n",
      "pink        0.017725\n",
      "cinnamon    0.005416\n",
      "purple      0.001969\n",
      "green       0.001969\n",
      "Name: proportion, dtype: float64 \n",
      "\n",
      "bruises\n",
      "no         0.584441\n",
      "bruises    0.415559\n",
      "Name: proportion, dtype: float64 \n",
      "\n",
      "odor\n",
      "none        0.434269\n",
      "foul        0.265879\n",
      "spicy       0.070901\n",
      "fishy       0.070901\n",
      "almond      0.049237\n",
      "anise       0.049237\n",
      "pungent     0.031512\n",
      "creosote    0.023634\n",
      "musty       0.004431\n",
      "Name: proportion, dtype: float64 \n",
      "\n",
      "gill-attachment\n",
      "free        0.974151\n",
      "attached    0.025849\n",
      "Name: proportion, dtype: float64 \n",
      "\n",
      "gill-spacing\n",
      "close      0.838503\n",
      "crowded    0.161497\n",
      "Name: proportion, dtype: float64 \n",
      "\n",
      "gill-size\n",
      "broad     0.690793\n",
      "narrow    0.309207\n",
      "Name: proportion, dtype: float64 \n",
      "\n",
      "gill-color\n",
      "buff         0.212703\n",
      "pink         0.183653\n",
      "white        0.147957\n",
      "brown        0.129000\n",
      "gray         0.092565\n",
      "chocolate    0.090103\n",
      "purple       0.060561\n",
      "black        0.050222\n",
      "red          0.011817\n",
      "yellow       0.010586\n",
      "orange       0.007878\n",
      "green        0.002954\n",
      "Name: proportion, dtype: float64 \n",
      "\n",
      "stalk-shape\n",
      "tapering     0.567208\n",
      "enlarging    0.432792\n",
      "Name: proportion, dtype: float64 \n",
      "\n",
      "stalk-root\n",
      "bulbous    0.464796\n",
      "missing    0.305268\n",
      "equal      0.137863\n",
      "club       0.068439\n",
      "rooted     0.023634\n",
      "Name: proportion, dtype: float64 \n",
      "\n",
      "stalk-surface-above-ring\n",
      "smooth     0.637125\n",
      "silky      0.291974\n",
      "fibrous    0.067947\n",
      "scaly      0.002954\n",
      "Name: proportion, dtype: float64 \n",
      "\n",
      "stalk-surface-below-ring\n",
      "smooth     0.607582\n",
      "silky      0.283604\n",
      "fibrous    0.073855\n",
      "scaly      0.034958\n",
      "Name: proportion, dtype: float64 \n",
      "\n",
      "stalk-color-above-ring\n",
      "white       0.549483\n",
      "pink        0.230428\n",
      "gray        0.070901\n",
      "brown       0.055145\n",
      "buff        0.053176\n",
      "orange      0.023634\n",
      "red         0.011817\n",
      "cinnamon    0.004431\n",
      "yellow      0.000985\n",
      "Name: proportion, dtype: float64 \n",
      "\n",
      "stalk-color-below-ring\n",
      "white       0.539636\n",
      "pink        0.230428\n",
      "gray        0.070901\n",
      "brown       0.063023\n",
      "buff        0.053176\n",
      "orange      0.023634\n",
      "red         0.011817\n",
      "cinnamon    0.004431\n",
      "yellow      0.002954\n",
      "Name: proportion, dtype: float64 \n",
      "\n",
      "veil-color\n",
      "white     0.975382\n",
      "brown     0.011817\n",
      "orange    0.011817\n",
      "yellow    0.000985\n",
      "Name: proportion, dtype: float64 \n",
      "\n",
      "ring-number\n",
      "one     0.921713\n",
      "two     0.073855\n",
      "none    0.004431\n",
      "Name: proportion, dtype: float64 \n",
      "\n",
      "ring-type\n",
      "pendant       0.488429\n",
      "evanescent    0.341704\n",
      "large         0.159527\n",
      "flaring       0.005908\n",
      "none          0.004431\n",
      "Name: proportion, dtype: float64 \n",
      "\n",
      "spore-print-color\n",
      "white        0.293944\n",
      "brown        0.242245\n",
      "black        0.230428\n",
      "chocolate    0.200886\n",
      "green        0.008863\n",
      "purple       0.005908\n",
      "orange       0.005908\n",
      "yellow       0.005908\n",
      "buff         0.005908\n",
      "Name: proportion, dtype: float64 \n",
      "\n",
      "population\n",
      "several      0.497292\n",
      "solitary     0.210734\n",
      "scattered    0.153619\n",
      "numerous     0.049237\n",
      "abundant     0.047267\n",
      "clustered    0.041851\n",
      "Name: proportion, dtype: float64 \n",
      "\n",
      "habitat\n",
      "woods      0.387494\n",
      "grasses    0.264402\n",
      "paths      0.140817\n",
      "leaves     0.102413\n",
      "urban      0.045298\n",
      "meadows    0.035943\n",
      "waste      0.023634\n",
      "Name: proportion, dtype: float64 \n",
      "\n"
     ]
    }
   ],
   "source": [
    "for col in df_decoded_clean.columns:\n",
    "    print(df_decoded_clean[col].value_counts(normalize=True), \"\\n\")"
   ]
  },
  {
   "cell_type": "markdown",
   "metadata": {
    "id": "7Rdsh7gjNgwY"
   },
   "source": [
    "En gill-attachment el free ~97.4%\n",
    "En veil-color el white ~97.5%\n",
    "En ring-number el one ~92.2%\n",
    "\n",
    "-> Mantenerlas para árboles o modelos robustos\n",
    "\n",
    "-> Eliminarlas para reducir la dimensionalidad o para usar modelos sensibles a varianza (como regresión logística)"
   ]
  },
  {
   "cell_type": "markdown",
   "metadata": {
    "id": "2dX1LM1VQcwK"
   },
   "source": [
    "## **7. Separar entre variables predictoras y variables a predecir**"
   ]
  },
  {
   "cell_type": "code",
   "execution_count": 230,
   "metadata": {
    "colab": {
     "base_uri": "https://localhost:8080/"
    },
    "id": "pS9HEA2eQcwK",
    "outputId": "4c926101-3a51-4e90-c617-b594842063a9"
   },
   "outputs": [
    {
     "name": "stdout",
     "output_type": "stream",
     "text": [
      "Variable target (y): (8124,)\n",
      "Variables predictoras (X): (8124, 21)\n",
      "Distribución de clases: class\n",
      "edible       4208\n",
      "poisonous    3916\n",
      "Name: count, dtype: int64\n"
     ]
    }
   ],
   "source": [
    "# La variable que trata de predecir este conjunto de datos es 'poisonous'.\n",
    "y = df_decoded_clean['class']\n",
    "X = df_decoded_clean.drop(columns=['class'])\n",
    "\n",
    "print(f\"Variable target (y): {y.shape}\")\n",
    "print(f\"Variables predictoras (X): {X.shape}\")\n",
    "print(f\"Distribución de clases: {y.value_counts()}\")"
   ]
  },
  {
   "cell_type": "markdown",
   "metadata": {
    "id": "rMd7Wl4AHgRh"
   },
   "source": [
    "### **Separación de Variables**\n",
    "\n",
    "#### Resultado:\n",
    "- **Variable target (y):** 8,124 observaciones\n",
    "- **Variables predictoras (X):** 8,124 filas × 21 columnas  \n",
    "- **Balance de clases:** 52% comestibles (e) vs 48% venenosas (p)\n",
    "\n",
    "#### Confirmación:\n",
    "Dataset bien balanceado y listo para One-Hot Encoding de las variables categóricas."
   ]
  },
  {
   "cell_type": "markdown",
   "metadata": {
    "id": "sN1fZZfZQcwL"
   },
   "source": [
    "## **8. Codificar correctamente las variables categóricas a numéricas**"
   ]
  },
  {
   "cell_type": "code",
   "execution_count": 231,
   "metadata": {
    "colab": {
     "base_uri": "https://localhost:8080/"
    },
    "id": "-4l92dfEQcwL",
    "outputId": "29af0f10-765d-47a8-f407-2ef404d39918"
   },
   "outputs": [
    {
     "name": "stdout",
     "output_type": "stream",
     "text": [
      "Variables originales: 21\n",
      "Variables después de encoding: 95\n",
      "Filas: 8124\n"
     ]
    }
   ],
   "source": [
    "# One Hot Encoder (una linea).\n",
    "X_encoded = pd.get_dummies(X, drop_first=True)\n",
    "\n",
    "print(f\"Variables originales: {X.shape[1]}\")\n",
    "print(f\"Variables después de encoding: {X_encoded.shape[1]}\")\n",
    "print(f\"Filas: {X_encoded.shape[0]}\")"
   ]
  },
  {
   "cell_type": "markdown",
   "metadata": {
    "id": "RBBAM0bzQcwL"
   },
   "source": [
    "## **9. Train test split**"
   ]
  },
  {
   "cell_type": "code",
   "execution_count": 232,
   "metadata": {
    "colab": {
     "base_uri": "https://localhost:8080/"
    },
    "id": "hHxqeJQqQcwL",
    "outputId": "4d2e3e68-f1c7-40ef-9ba6-ec95d92f78bc"
   },
   "outputs": [
    {
     "name": "stdout",
     "output_type": "stream",
     "text": [
      "Train: (5443, 95), Test: (2681, 95)\n"
     ]
    }
   ],
   "source": [
    "# Os lo dejamos a todos igual\n",
    "X_train, X_test, y_train, y_test = train_test_split(X_encoded, y, test_size=0.33, random_state=42)\n",
    "\n",
    "print(f\"Train: {X_train.shape}, Test: {X_test.shape}\")"
   ]
  },
  {
   "cell_type": "markdown",
   "metadata": {
    "id": "3sL57bzCQcwL"
   },
   "source": [
    "## **10. PCA**"
   ]
  },
  {
   "cell_type": "markdown",
   "metadata": {
    "id": "uhAhJqbKQcwM"
   },
   "source": [
    "Es un conjunto de datos del que aún no hemos visto nada (no tenemos graficas) así que vamos a hacer algunas. Tenemos el problema de que son muchas variables, **PCA al rescate**: le pedimos que nos de dos dimensiones y las pintamos, sabemos que serán **aquellas que retengan más información**."
   ]
  },
  {
   "cell_type": "code",
   "execution_count": 233,
   "metadata": {
    "colab": {
     "base_uri": "https://localhost:8080/",
     "height": 581
    },
    "id": "3232KSn9QcwM",
    "outputId": "6b6d164a-96ca-404f-b363-8fb9b1ce5d65"
   },
   "outputs": [
    {
     "name": "stdout",
     "output_type": "stream",
     "text": [
      "PC1: 18.3% varianza\n",
      "PC2: 12.8% varianza\n",
      "Varianza explicada total: 31.1%\n"
     ]
    },
    {
     "data": {
      "image/png": "[encoded data removed]",
      "text/plain": [
       "<Figure size 1000x600 with 2 Axes>"
      ]
     },
     "metadata": {},
     "output_type": "display_data"
    },
    {
     "name": "stdout",
     "output_type": "stream",
     "text": [
      "Varianza explicada total: 31.1%\n"
     ]
    }
   ],
   "source": [
    "pca = PCA(n_components=2)       # metodo de sklearn\n",
    "pca.fit(X_train)\n",
    "\n",
    "# Transformar los datos a 2 dimensiones\n",
    "X_train_pca = pca.transform(X_train)\n",
    "\n",
    "# Representar en un scatterplot y poner en color las etiquetas de entrenamiento\n",
    "X_train_pca = pca.transform(X_train)\n",
    "\n",
    "# Mostrar varianzas ANTES del gráfico\n",
    "print(f'PC1: {pca.explained_variance_ratio_[0]:.1%} varianza')\n",
    "print(f'PC2: {pca.explained_variance_ratio_[1]:.1%} varianza')\n",
    "print(f'Varianza explicada total: {sum(pca.explained_variance_ratio_):.1%}')\n",
    "\n",
    "# Gráfico con etiquetas consistentes\n",
    "plt.figure(figsize=(10, 6))\n",
    "scatter = plt.scatter(X_train_pca[:, 0], X_train_pca[:, 1], \n",
    "                     c=y_train.map({'edible': 0, 'poisonous': 1}),\n",
    "                     cmap='viridis', alpha=0.7)\n",
    "plt.xlabel(f'PC1 ({pca.explained_variance_ratio_[0]:.1%} varianza)')\n",
    "plt.ylabel(f'PC2 ({pca.explained_variance_ratio_[1]:.1%} varianza)')\n",
    "plt.title('PCA: Visualización de Setas en 2D')\n",
    "plt.colorbar(scatter, label='Clase (0=Comestible, 1=Venenosa)')\n",
    "plt.show()\n",
    "\n",
    "print(f'Varianza explicada total: {sum(pca.explained_variance_ratio_):.1%}')"
   ]
  },
  {
   "cell_type": "markdown",
   "metadata": {
    "id": "4zkM1ARIHgRm"
   },
   "source": [
    "### **Resultados del PCA - Visualización 2D**\n",
    "\n",
    "#### Separabilidad de Clases:\n",
    "- **Separación clara:** Se observan **clusters distintivos** entre comestibles (amarillo) y venenosas (morado)\n",
    "- **Patrones identificables:** Múltiples grupos bien diferenciados por tipo\n",
    "- **Solapamiento limitado:** Pocas setas en zonas ambiguas\n",
    "\n",
    "#### Información Retenida:\n",
    "- **PC1:** 18.3% de varianza (eje horizontal)\n",
    "- **PC2:** 12.8% de varianza (eje vertical)  \n",
    "- **Total:** 31.1% de información original en solo 2 dimensiones\n",
    "\n",
    "#### Interpretación:\n",
    "- **Excelente para clustering:** Los datos muestran estructura natural agrupable\n",
    "- **Predictibilidad alta:** La separación visual sugiere que será fácil clasificar\n",
    "- **PCA efectivo:** Aunque solo captura 31% de varianza, revela los patrones más importantes"
   ]
  },
  {
   "cell_type": "markdown",
   "metadata": {
    "id": "QdE0AvlKQcwM"
   },
   "source": [
    "## **11. Parece que está bastante separadito, parece que a ojo mucho se puede ver :). Igualmente, vamos a entrenar un clasificador a ver qué tal lo hace antes de editar más**"
   ]
  },
  {
   "cell_type": "code",
   "execution_count": 234,
   "metadata": {
    "colab": {
     "base_uri": "https://localhost:8080/"
    },
    "id": "eKQqz_EPQcwM",
    "outputId": "307b50c1-ee13-4c53-ef6a-e07624ca9dc7"
   },
   "outputs": [
    {
     "name": "stdout",
     "output_type": "stream",
     "text": [
      "Precisión de Random Forest: 1.0000 (100.00%)\n"
     ]
    }
   ],
   "source": [
    "from sklearn.ensemble import RandomForestClassifier\n",
    "\n",
    "# 1. Definir el clasificador y el número de estimadores\n",
    "rf = RandomForestClassifier(n_estimators=100, random_state=42)\n",
    "\n",
    "# 2. Entrenar en train\n",
    "rf.fit(X_train, y_train)\n",
    "\n",
    "# 3. Calcular la precisión sobre test\n",
    "accuracy = rf.score(X_test, y_test)\n",
    "print(f\"Precisión de Random Forest: {accuracy:.4f} ({accuracy*100:.2f}%)\")"
   ]
  },
  {
   "cell_type": "markdown",
   "metadata": {
    "id": "PACQlU5_QcwM"
   },
   "source": [
    "Es un conjunto sencillo y Random Forest es muy bueno en su trabajo, Igualmente, vamos a ver qué tamaño tenemos de dataset:\n"
   ]
  },
  {
   "cell_type": "code",
   "execution_count": 235,
   "metadata": {
    "colab": {
     "base_uri": "https://localhost:8080/"
    },
    "id": "ODibK0D2QcwN",
    "outputId": "fc9e6177-66e8-4c4c-ced0-9e536e8ddacf"
   },
   "outputs": [
    {
     "name": "stdout",
     "output_type": "stream",
     "text": [
      "Número de features utilizadas: 95\n",
      "Tamaño del conjunto de entrenamiento: 5443\n",
      "Tamaño del conjunto de test: 2681\n"
     ]
    }
   ],
   "source": [
    "# Información\n",
    "print(f\"Número de features utilizadas: {X_train.shape[1]}\")\n",
    "print(f\"Tamaño del conjunto de entrenamiento: {X_train.shape[0]}\")\n",
    "print(f\"Tamaño del conjunto de test: {X_test.shape[0]}\")"
   ]
  },
  {
   "cell_type": "markdown",
   "metadata": {
    "id": "bYKxIlNPHgRo"
   },
   "source": [
    "### **Random Forest - Rendimiento Baseline**\n",
    "\n",
    "#### Resultado Excepcional:\n",
    "- **Precisión:** 100.00% (clasificación perfecta)\n",
    "- **Features utilizadas:** 95 variables binarias\n",
    "- **Datos entrenamiento:** 5,443 setas | **Test:** 2,681 setas\n",
    "\n",
    "#### Interpretación:\n",
    "- **Dataset muy separable:** Las características permiten distinción perfecta\n",
    "- **Confirma visualización PCA:** Los clusters observados son realmente distintivos\n",
    "- **Baseline alto:** Clustering tendrá que competir contra clasificación perfecta\n",
    "- **Sin overfitting aparente:** Test independiente con 2,681 observaciones\n",
    "\n",
    "#### Implicaciones:\n",
    "El clustering debería detectar patrones muy claros, ya que existe separabilidad perfecta entre comestibles/venenosas."
   ]
  },
  {
   "cell_type": "markdown",
   "metadata": {
    "id": "_rEVhvRaQcwN"
   },
   "source": [
    "## **12. ¿Muchas features no? Vamos a reducir las usando PCA.**"
   ]
  },
  {
   "cell_type": "code",
   "execution_count": 236,
   "metadata": {
    "colab": {
     "base_uri": "https://localhost:8080/",
     "height": 652
    },
    "id": "kEJPZw_cQcwN",
    "outputId": "344c7486-5284-4736-84d0-513f05810803"
   },
   "outputs": [
    {
     "data": {
      "image/png": "[encoded data removed]",
      "text/plain": [
       "<Figure size 1000x600 with 1 Axes>"
      ]
     },
     "metadata": {},
     "output_type": "display_data"
    },
    {
     "name": "stdout",
     "output_type": "stream",
     "text": [
      "2 componentes: 0.9258\n",
      "5 componentes: 0.9937\n",
      "10 componentes: 0.9989\n",
      "15 componentes: 0.9993\n",
      "20 componentes: 0.9996\n"
     ]
    }
   ],
   "source": [
    "n_features = range(1, 21)  # definir un rango de valores a probar\n",
    "scores = []\n",
    "\n",
    "for n in n_features:\n",
    "   # Hacer PCA sobre X_train\n",
    "   # 1. Definir PCA\n",
    "   pca = PCA(n_components=n)\n",
    "   # 2. Aprender PCA sobre X_train\n",
    "   X_train_pca = pca.fit_transform(X_train)\n",
    "   X_test_pca = pca.transform(X_test)\n",
    "\n",
    "   # Entrenar Random Forest\n",
    "   # 1. Definir el RF\n",
    "   rf = RandomForestClassifier(n_estimators=100, random_state=42)\n",
    "   # 2. Entrenar clasificador\n",
    "   rf.fit(X_train_pca, y_train)\n",
    "\n",
    "   # Guardar el score\n",
    "   score = rf.score(X_test_pca, y_test)\n",
    "   scores.append(score)\n",
    "\n",
    "plt.figure(figsize=(10, 6))\n",
    "sns.lineplot(x=n_features, y=scores)\n",
    "plt.xlabel('Número de Componentes PCA')\n",
    "plt.ylabel('Precisión')\n",
    "plt.title('Precisión vs Número de Componentes PCA')\n",
    "plt.grid(True)\n",
    "plt.show()\n",
    "\n",
    "# Mostrar algunos valores específicos\n",
    "for i in [2, 5, 10, 15, 20]:\n",
    "   if i <= len(scores):\n",
    "       print(f\"{i} componentes: {scores[i-1]:.4f}\")"
   ]
  },
  {
   "cell_type": "markdown",
   "metadata": {
    "id": "ANMK-UpMHgR9"
   },
   "source": [
    "### **Análisis PCA - Reducción de Dimensionalidad**\n",
    "\n",
    "#### Resultados Clave:\n",
    "- **2 componentes:** 92.58% precisión (reducción de 95→2, perdemos 7.4%)\n",
    "- **5 componentes:** 99.37% precisión (casi perfecto)\n",
    "- **10+ componentes:** 99.89% precisión (clasificación casi perfecta)\n",
    "\n",
    "#### Punto Óptimo:\n",
    "- **5 componentes** ofrecen el mejor balance eficiencia/precisión\n",
    "- **Reducción masiva:** 95→5 variables (95% menos features)\n",
    "- **Pérdida mínima:** Solo 0.63% de precisión vs dataset completo\n",
    "\n",
    "#### Implicaciones:\n",
    "- **Dimensionalidad efectiva muy baja:** Solo 5 componentes capturan 99.4% de la información discriminativa\n",
    "- **Excelente para clustering:** Podemos trabajar con 19x menos dimensiones\n",
    "- **Eficiencia computacional:** Procesamiento mucho más rápido\n",
    "- **Sweet spot identificado:** 5 componentes = máxima eficiencia con precisión excelente\n",
    "\n",
    "#### Conclusión:\n",
    "El dataset tiene una estructura muy simple - la información discriminativa se concentra en muy pocas dimensiones principales. **5 componentes PCA** son suficientes para mantener casi toda la capacidad predictiva."
   ]
  },
  {
   "cell_type": "markdown",
   "metadata": {
    "id": "2Jvqa-leQcwN"
   },
   "source": [
    "## **13. Clustering**"
   ]
  },
  {
   "cell_type": "markdown",
   "metadata": {
    "id": "VWiMHKUdQcwN"
   },
   "source": [
    "Viendo que el conjunto de datos es sencillito, podemos intentar hacer algo de clustering a ver qué información podemos obtener.\n",
    "\n",
    "El primer paso va a ser importar la función de Kmeans de sklearn, y a partir de ahi, vamos a buscar el valor óptimo de clusters. Como hemos visto anteriormente, este valor lo obtenemos, por ejemplo, del codo de la gráfica que representa el total de las distancias de los puntos a los centros de los clusters asociados. Os dejo la página de la documentación de sklearn para que lo busquéis:\n",
    "\n",
    "[K-Means on sklearn](https://scikit-learn.org/stable/modules/generated/sklearn.cluster.KMeans.html)\n",
    "\n",
    "Con esto solo hay que ahora generar los modelos de kmeans, evaluar y pintar la gráfica para los valores de ``k`` que establezcais.\n",
    "\n",
    "\n"
   ]
  },
  {
   "cell_type": "code",
   "execution_count": 237,
   "metadata": {
    "colab": {
     "base_uri": "https://localhost:8080/",
     "height": 669
    },
    "id": "DV0IXFncQcwO",
    "outputId": "fe216b70-43eb-447c-9c0e-774efe0a791b"
   },
   "outputs": [
    {
     "data": {
      "image/png": "[encoded data removed]",
      "text/plain": [
       "<Figure size 1000x600 with 1 Axes>"
      ]
     },
     "metadata": {},
     "output_type": "display_data"
    },
    {
     "name": "stdout",
     "output_type": "stream",
     "text": [
      "Inercia por número de clusters:\n",
      "K=1: 48083\n",
      "K=2: 40034\n",
      "K=3: 34369\n",
      "K=4: 30735\n",
      "K=5: 28726\n"
     ]
    }
   ],
   "source": [
    "from sklearn.cluster import KMeans\n",
    "\n",
    "scores = []\n",
    "k_values = range(1, 6)  # definir un rango\n",
    "for k in k_values:\n",
    "   # Definir Kmeans y ajustar\n",
    "   kmeans = KMeans(n_clusters=k, random_state=42, n_init=5)\n",
    "   kmeans.fit(X_train)\n",
    "\n",
    "   # Guardar la predicción (inercia/WCSS)\n",
    "   scores.append(kmeans.inertia_)\n",
    "\n",
    "plt.figure(figsize=(10, 6))\n",
    "sns.lineplot(x=k_values, y=scores, marker='o')\n",
    "plt.xlabel('Número de Clusters (K)')\n",
    "plt.ylabel('Inercia (WCSS)')\n",
    "plt.title('Método del Codo para K-Means')\n",
    "plt.grid(True)\n",
    "plt.show()\n",
    "\n",
    "# Mostrar valores específicos\n",
    "print(\"Inercia por número de clusters:\")\n",
    "for k, score in zip(k_values, scores):\n",
    "   print(f\"K={k}: {score:.0f}\")"
   ]
  },
  {
   "cell_type": "markdown",
   "metadata": {
    "id": "UQcNB0xIHgR_"
   },
   "source": [
    "### **Método del Codo - Selección de K Óptimo**\n",
    "\n",
    "#### Análisis de Inercia:\n",
    "- **K=1:** 48,083 (baseline)\n",
    "- **K=2:** 40,034 (gran caída inicial: -8,049)\n",
    "- **K=3:** 34,369 (segunda mayor reducción: -5,665)\n",
    "- **K=4:** 30,735 (reducción: -3,634)\n",
    "- **K=5:** 28,726 (reducción: -2,009)\n",
    "\n",
    "#### Identificación del Codo:\n",
    "- **K=2:** Reducción más significativa (esperado: 2 clases reales)\n",
    "- **K=3:** Posible estructura adicional en los datos\n",
    "- **Después K=4:** Mejoras marginales decrecientes más pronunciadas\n",
    "\n",
    "#### Recomendación:\n",
    "**K=2** parece óptimo, coincidiendo con las 2 clases naturales (comestible/venenosa).\n",
    "**K=3** podría revelar subgrupos interesantes dentro de una de las clases.\n",
    "\n",
    "#### Decisión:\n",
    "Proceder con **K=2** para comparación directa con las etiquetas reales."
   ]
  },
  {
   "cell_type": "markdown",
   "metadata": {
    "id": "OSgPG286QcwO"
   },
   "source": [
    "Con el valor que hayáis obtenido de la gráfica, podéis obtener una buena aproximación de Kmeans y con ello podemos pasar a explorar cómo de bien han separado la información los distintos clusters. Para ello, se va a hacer un ``catplot``, seaborn os lo hará solito. Con esto lo que se pretende ver es la distribución de la varaible a predecir en función del cluster que haya determinado Kmeans."
   ]
  },
  {
   "cell_type": "code",
   "execution_count": 238,
   "metadata": {
    "colab": {
     "base_uri": "https://localhost:8080/",
     "height": 646
    },
    "id": "Wa7XfETyQcwO",
    "outputId": "043524cb-d40e-496d-db26-148fc455f4b7"
   },
   "outputs": [
    {
     "data": {
      "text/plain": [
       "<Figure size 1000x500 with 0 Axes>"
      ]
     },
     "metadata": {},
     "output_type": "display_data"
    },
    {
     "data": {
      "image/png": "[encoded data removed]",
      "text/plain": [
       "<Figure size 811.111x500 with 2 Axes>"
      ]
     },
     "metadata": {},
     "output_type": "display_data"
    },
    {
     "name": "stdout",
     "output_type": "stream",
     "text": [
      "Distribución por cluster:\n",
      "class    edible  poisonous\n",
      "cluster                   \n",
      "0             5       2080\n",
      "1          2825        533\n",
      "Cluster 0: 99.8% pureza (mayoría: poisonous)\n",
      "Cluster 1: 84.1% pureza (mayoría: edible)\n"
     ]
    }
   ],
   "source": [
    "# Aprender Kmeans con el valor de K obtenido.\n",
    "\n",
    "kmeans = KMeans(n_clusters=2, random_state=42, n_init=10)\n",
    "kmeans.fit(X_train)\n",
    "\n",
    "# Obtener las predicciones de clusters\n",
    "cluster_predictions = kmeans.predict(X_train)\n",
    "\n",
    "# Preparar el catplot.\n",
    "plot_data = pd.DataFrame({\n",
    "   'cluster': cluster_predictions,\n",
    "   'class': y_train.values\n",
    "})\n",
    "\n",
    "# Pintar con mejor visualización\n",
    "plt.figure(figsize=(10, 5))\n",
    "ax = sns.catplot(col='cluster', x='class', data=plot_data, kind='count',\n",
    "                col_wrap=2, height=5, aspect=0.8)\n",
    "ax.set_axis_labels('Clase Real', 'Cantidad')\n",
    "ax.set_titles('Cluster {col_name}')\n",
    "plt.tight_layout()\n",
    "plt.show()\n",
    "\n",
    "# Análisis cuantitativo\n",
    "print(\"Distribución por cluster:\")\n",
    "print(plot_data.groupby(['cluster', 'class']).size().unstack(fill_value=0))\n",
    "\n",
    "# Calcular pureza de clusters\n",
    "cluster_purity = []\n",
    "for cluster in [0, 1]:\n",
    "   cluster_data = plot_data[plot_data['cluster'] == cluster]['class']\n",
    "   most_common = cluster_data.mode()[0]\n",
    "   purity = (cluster_data == most_common).mean()\n",
    "   cluster_purity.append(purity)\n",
    "   print(f\"Cluster {cluster}: {purity:.1%} pureza (mayoría: {most_common})\")"
   ]
  },
  {
   "cell_type": "markdown",
   "metadata": {
    "id": "0yyST22THgSB"
   },
   "source": [
    "### **Evaluación de K-Means (K=2)**\n",
    "\n",
    "##### Resultados del Clustering:\n",
    "| Cluster | Comestibles (edible) | Venenosas (poisonous) | Pureza | Interpretación |\n",
    "|---------|---------------------|----------------------|---------|----------------|\n",
    "| **0**   | 5                  | 2,080                | **99.8%** | Casi exclusivamente **venenosas** |\n",
    "| **1**   | 2,825              | 533                  | **84.1%** | Mayormente **comestibles** |\n",
    "\n",
    "#### Análisis de Rendimiento:\n",
    "- **Cluster 0:** Excelente identificación de setas venenosas (99.8% precisión)\n",
    "- **Cluster 1:** Buena identificación de comestibles, con 15.9% de falsos positivos\n",
    "- **Sin usar etiquetas:** K-Means logró separación altamente efectiva\n",
    "\n",
    "#### Comparación con Supervisado:\n",
    "- **Random Forest:** 100% precisión (con etiquetas)\n",
    "- **K-Means:** ~90% precisión efectiva (sin etiquetas)\n",
    "- **Conclusión:** Clustering detectó patrones naturales muy cercanos a la realidad biológica\n",
    "\n",
    "#### Valor Práctico:\n",
    "Identificación automática de setas potencialmente peligrosas sin conocimiento previo de toxicidad."
   ]
  },
  {
   "cell_type": "markdown",
   "metadata": {
    "id": "JzMUKFwzQcwO"
   },
   "source": [
    "Vamos a ver qué tal queda esto pintado. Para ello, repetimos el scatterplot de antes pero usando como color el cluster asignado por kmeans."
   ]
  },
  {
   "cell_type": "code",
   "execution_count": 240,
   "metadata": {
    "colab": {
     "base_uri": "https://localhost:8080/",
     "height": 497
    },
    "id": "IjhjuexcQcwO",
    "outputId": "87748a07-a51d-4d79-96d7-8277327526ef"
   },
   "outputs": [
    {
     "data": {
      "image/png": "[encoded data removed]",
      "text/plain": [
       "<Figure size 1200x500 with 4 Axes>"
      ]
     },
     "metadata": {},
     "output_type": "display_data"
    },
    {
     "name": "stdout",
     "output_type": "stream",
     "text": [
      "Varianza explicada total: 31.1%\n"
     ]
    }
   ],
   "source": [
    "# Entrenar PCA para representar.\n",
    "pca = PCA(n_components=2)\n",
    "X_train_pca = pca.fit_transform(X_train)\n",
    "\n",
    "# Usar un color por cada cluster.\n",
    "plt.figure(figsize=(12, 5))\n",
    "\n",
    "# Subplot 1: Coloreado por clusters K-means\n",
    "plt.subplot(1, 2, 1)\n",
    "scatter1 = plt.scatter(X_train_pca[:, 0], X_train_pca[:, 1],\n",
    "                      c=cluster_predictions, cmap='viridis', alpha=0.7)\n",
    "plt.xlabel(f'PC1 ({pca.explained_variance_ratio_[0]:.1%} varianza)')\n",
    "plt.ylabel(f'PC2 ({pca.explained_variance_ratio_[1]:.1%} varianza)')\n",
    "plt.title('PCA: Clusters K-Means')\n",
    "plt.colorbar(scatter1, label='Cluster (0, 1)')\n",
    "\n",
    "# Subplot 2: Coloreado por clases reales (para comparar)\n",
    "plt.subplot(1, 2, 2)\n",
    "scatter2 = plt.scatter(X_train_pca[:, 0], X_train_pca[:, 1],\n",
    "                      c=y_train.map({'edible': 0, 'poisonous': 1}), cmap='viridis', alpha=0.7)  # ✅ Mapeo correcto\n",
    "plt.xlabel(f'PC1 ({pca.explained_variance_ratio_[0]:.1%} varianza)')\n",
    "plt.ylabel(f'PC2 ({pca.explained_variance_ratio_[1]:.1%} varianza)')\n",
    "plt.title('PCA: Clases Reales')\n",
    "plt.colorbar(scatter2, label='Clase (0=Comestible, 1=Venenosa)')\n",
    "\n",
    "plt.tight_layout()\n",
    "plt.show()\n",
    "print(f'Varianza explicada total: {sum(pca.explained_variance_ratio_):.1%}')"
   ]
  },
  {
   "cell_type": "markdown",
   "metadata": {
    "id": "adsvYEowHgSI"
   },
   "source": [
    "### **Comparación Final: K-Means vs Clases Reales**\n",
    "\n",
    "#### Coincidencia Espacial Extraordinaria:\n",
    "- **Patrones idénticos:** Los clusters K-Means (izquierda) coinciden casi perfectamente con las clases reales (derecha)\n",
    "- **Separación natural:** K-Means descubrió la estructura biológica real sin usar etiquetas\n",
    "- **Validación visual:** Confirma los resultados de pureza (99.8% y 84.1%)\n",
    "\n",
    "#### Hallazgos Clave:\n",
    "- **Cluster amarillo (K-Means)** = **Comestibles (amarillo real)**\n",
    "- **Cluster morado (K-Means)** = **Venenosas (morado real)**\n",
    "- **Zona de mezcla central:** Pequeña región donde ambos métodos muestran solapamiento\n",
    "\n",
    "#### Conclusión del Taller:\n",
    "**K-Means logró una separación casi perfecta** de setas comestibles/venenosas usando solo características morfológicas, **sin conocer previamente su toxicidad**.\n",
    "\n",
    "#### Valor Científico:\n",
    "- **Clustering detectó patrones biológicos reales**\n",
    "- **PCA reveló que solo el 31.1% de varianza contiene la información discriminativa clave**\n",
    "- **Demostración exitosa de aprendizaje no supervisado en clasificación crítica para la salud**\n",
    "\n",
    "**¡Taller completado con éxito!** El clustering no supervisado demostró ser altamente efectivo para detectar la peligrosidad de las setas."
   ]
  },
  {
   "cell_type": "markdown",
   "metadata": {
    "id": "v0q-ZDhQQcwO"
   },
   "source": [
    "¿Es bastante parecido no? No es tan bueno como el Random Forest, pero ha conseguido identificar bastante bien los distintos puntos del dataset sin utilizar las etiquetas. De hecho, el diagrama de factor que hemos visto antes muestra que solo un par de clusters son imprecisos. Si no hubieramos tenido etiquetas esta aproximacion nos hubiera ayudado mucho a clasificar los distintos tipos de hongos."
   ]
  }
 ],
 "metadata": {
  "colab": {
   "provenance": []
  },
  "kernelspec": {
   "display_name": "Python 3",
   "language": "python",
   "name": "python3"
  },
  "language_info": {
   "codemirror_mode": {
    "name": "ipython",
    "version": 3
   },
   "file_extension": ".py",
   "mimetype": "text/x-python",
   "name": "python",
   "nbconvert_exporter": "python",
   "pygments_lexer": "ipython3",
   "version": "3.12.7"
  }
 },
 "nbformat": 4,
 "nbformat_minor": 0
}
